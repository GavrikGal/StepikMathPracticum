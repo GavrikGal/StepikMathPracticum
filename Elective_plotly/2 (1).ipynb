{
 "cells": [
  {
   "cell_type": "markdown",
   "metadata": {
    "pycharm": {
     "name": "#%% md\n"
    }
   },
   "source": [
    "# Задание 2\n",
    "\n",
    "В <a href=\"https://stepik.org/lesson/196432/step/14\">задании на исследование пересечений графиков функций с помощью matplotlib</a> мы изучали пару интересных функций:\n",
    "\n",
    "$ f(x) = sin(\\frac{x}{5}) \\cdot e^{\\frac{x}{10}} + 5 \\cdot e^{-\\frac{x}{2}}$\n",
    "\n",
    "и\n",
    "\n",
    "$g(x) = 1 - x^3 + x^5$\n",
    "\n",
    "Теперь у нас есть более удобный инструмент, позволяющий работать с графиками интерактивно, менять масштаб, двигать, не перестраивая результат ячейки, поэтому имеет смысл к ним вернуться.\n",
    "\n",
    "Не все заметили (и это было не страшно), что эти 2 функции имеют бесконечно много точек пересечений.\n",
    "\n",
    "В этом задании необходимо построить 1 фигуру, содержащую несколько изображений. В результате должна получиться 1 фигура следующего вида:"
   ]
  },
  {
   "cell_type": "markdown",
   "metadata": {
    "pycharm": {
     "name": "#%% md\n"
    }
   },
   "source": [
    "<img src=\"data:image/png;base64,iVBORw0KGgoAAAANSUhEUgAAA0MAAAI5CAIAAADsbHarAAAAAXNSR0IArs4c6QAAAARnQU1BAACxjwv8YQUAAAAJcEhZcwAAEnQAABJ0Ad5mH3gAADYrSURBVHhe7d1RduJKsgXQHpcH5PF4NJ4Mg3kPXCeqACWQpAGRV3t/dR8rJPAVK86ijP2//wMAYE6aHADArDQ5AIBZaXIAALPS5AAAZqXJAQDMSpMDAJiVJgcAMCtNDgBgVpocAMCsNDkAgFlpcgAAs9LkAABmpckBAMxKkwMAmJUmBwAwK00OAGBWmhwAwKw0OQCAWWlyAACz0uQAAGalyQEAzEqTAwCYlSYHADArTQ4AYFaaHADArDQ5AIBZaXIAALN6TJP7HwC8XJYQbJgmB8CssoRgwzQ5AGaVJdQhA/B+co+O0uQAmFWWUIcMwPvJPTpKkwNgVllCHTIA7yf36KinNLmkAPBQWTMlaYcMwPvJPTpKkwNgGlkzJWmHDMD7yT06SpMDYBpZMyVphwyUpLCG3IUl6ShNDoBpZM2UpB0yUJLCGnIXlqSjNDkAppE1U5J2yEBJCmvIXViSjtLkAJhG1kxJ2iEDJSmsIXdhSTpKkwNgGlkzJWmHDJSksIbchSXpKE0OgGlkzZSkHTJQksIacheWpKM0OQCmkTVTknbIQEkKa8hdWJKO0uQAmEbWTEnaIQMlKawhd2FJOkqTA2AaWTMlaYcMlKSwhtyFJekoTQ6AaWTNlKQdMlCSwhpyF5akozQ5AKaRNVOSdshASQpryF1Yko7S5ACYRtZMSdohAyUprCF3YUk6SpMDYBpZMyVphwyUpLCG3IUl6ShNDoBpZM2UpB0yUJLCGnIXlqSjNDkAppE1U5J2yEBJCmvIXViSjtLkAJhG1kxJ2iEDJSmsIXdhSTpKkwNgGlkzJWmHDJSksIbchSXpKE0OgGlkzZSkHTJQksIacheWpKM0OQCmkTVTknbIQEkKa8hdWJKO0uQAmEbWTEnaIQMlKawhd2FJOkqTA2AaWTMlaYcMlKS8je+vj/y3Ofj4+PrOF/6L8ixL0lGaHADTyJopSTtkoCTlJXbfn0c17ePza5cv/LM7KXJ7H42D/jPyHEvSUZocANPImilJO2SgJH24RSFp+dj7/Pz6+t79h8vKP43vybKmPa/JndbIvTd4uy+PpCQdpckBMI2smZK0QwZK0kf7/sz57/Dx+R9vdK1vyud5mXpOk1u0uB+Li79cHkhJOkqTA2AaWTMlaYcMlKSPNtLkfjT/xfE5zsrN89+hWqfJ7U5/8O6YJteSx1KSAsBDZc2UpB0yUJI+2nCT+/GSHw1bPMSnX/X1/7rafivuL02uJY+lJAWAh8qaKUk7ZKAkfbTfNbm955eM1ze5Q007/cTD9/KKD2typ9dq0uRa8lhKUgB4qKyZkrRDBkrSR1s2ueU/I+52319X2sazi9UaTa7Dg5pcV5XW5FryWEpSAHiorJmStEMGStJH62hyf138Qa7nVqv/dJM7P8vH59f31x3/TV4lD6QkHaXJATCNrJmStEMGStJHu6fJHeza7yHdrBqH9/U+Pz5OasvhV5t0/GKT4Sb3563E5UX3V91fNgcNe3yT+8ijuve/ySvkgZSkozQ5AKaRNVOSdshASfpoA61hUWEOrkzd+Gn+vb6fQ7vo/No/pTFfu+Lap287/n7DQ5vcyXdAk+uTx1KSAsBDZc2UpB0yUJI+2lBrWA5dGrvd4sq+y2Tmj/4id1qh7pjbO79q9LS0xzS5/XkWb0pqcn3yWEpSAHiorJmStEMGStJHG2sNjSrX6jGtxnfFaCM7nruvyO01+9crm9ySJtcnj6UkBYCHypopSTtkoCR9tMHW0Ohoi7k7e9zB8Tn6x48r1C8vGprcuTyQknSUJgfANLJmStIOGShJH22wNTTe+jorMo0jfn4a7O9BzZ9mOzpJ6wRtx4/4eCofqDh6WM1P3w62tJ5jxmhyffJYSlIAeKismZK0QwZK0kcbbQ3LudMic+vrsTiscVTPMf/8HH1SGc8sG+LyGWty5/JAStJRmhwA08iaKUk7ZKAkfbTR1rCcOyky3e2row91n6tTx/k0uXN5ICXpKE0OgGlkzZSkHTJQkj7aaGtYzh0XmTtazuLQxfU1OU2uKY+lJAWAh8qaKUk7ZKAkfbTnNLnFVy+f9IlN7ue3ES9+NfCSJndbHkhJOkqTA2AaWTMlaYcMlKSPNtgaFjXmpMg0vtpvUYgGmlzHH6U/sjyfJncuD6QkHaXJATCNrJmStEMGStJHG2wNy7HjuVWb3P0X1+RuywMpSUdpcgBMI2umJO2QgZL00cZaQ6PIHfeYXzW5xfXvanKNR3aTJndbHkhJOkqTA2AaWTMlaYcMlKSPNtQabhS53zS5Rh26o8k1Lvzx8xtJjgc6zqfJncsDKUlHaXIATCNrpiTtkIGS9NEGWkOrp522mOURv6ki/U2u77qa3IA8kJJ0lCYHwDSyZkrSDhkoSR/t7tawHNg7LzH95atD/8nOj2wf2HE+Te5cHkhJOkqTA2AaWTMlaYcMlKSPdk9raP6tq4PFyPLNsV/UHE1Ok2vKYylJAeChsmZK0g4ZKEkfraM17Ha779bfSC2tmrGscuNFZ3muS8Vm8WSWBzYemCbXIQ+kJB2lyQEwjayZkrRDBkrSR1u2hjtdKBmtxtT49MGhJh564uE3+B6O6GyF++NylsN0/e/WkzlcMV9t/sn+g1WbXPMbdcvDSmO3XLgkHaXJATCNrJmStEMGStJH+1WT29eknKZh6MzNinLrTP+Gxp7N8qKva3JDRW6FN+ly3ZJ0lCYHwDSyZkrSDhkoSR9tuMkdvdl1ycC5223oxomOhh70DtfbN7mha/1GrluSjtLkAJhG1kxJ2iEDJemjjbStz6+bJS52957+QkO53ndOhm5e8fBG4ulBy4u+fZPzntxeHktJCgAPlTVTknbIQEn6cB1V4vA36D8+P7/2BW6kq3z3/w3UK2XoylnOa83lQ/cl9OcCJx/Cbfwb8flj/vhaNqeeYzoMVbmh0vgruXBJOkqTA2AaWTMlaYcMlKSz2h0+1XBohHk6JS3x8+v7dk3cHcrTyRn2oxfeH/z5eMPRsZePpEe+jSXpKE0OgGlkzZSkHTJQksIacheWpKM0OQCmkTVTknbIQEkKa8hdWJKO0uQAmEbWTEnaIQMlKawhd2FJOkqTA2AaWTMlaYcMlKSwhtyFJekoTQ6AaWTNlKQdMlCSwhpyF5akozQ5AKaRNVOSdshASQpryF1Yko7S5ACYRtZMSdohAyUprCF3YUk6SpMDYBpZMyVphwyUpLCG3IUl6ShNDoBpZM2UpB0yUJLCGnIXlqSjNDkAppE1U5J2yEBJCmvIXViSjtLkAJhG1kxJ2iEDJSmsIXdhSTpKkwNgGlkzJWmHDJSksIbchSXpKE0OgGlkzZSkHTJQksIacheWpKM0OQCmkTVTknbIALyf3KOjNDkAppE1U5J2yAC8n9yjozQ5AKaRNVOSdsgAvJ/co6M0OQCmkTVTknbIALyf3KOjNDkAppE1U5J2yAC8n9yjozQ5AKaRNVOSwoZpcgBMI2umJIUN0+QAmEbWTEkKG6bJATCNrJmSFDZMkwNgGlkzJSlsmCYHwDSyZkpS2DBNDoBpZM2UpLBhmhwA08iaKUlhwzQ5AKaRNVOSwoZpcgBMI2umJIUN0+QAmEbWTEkKG6bJATCNrJmSFDZMkwNgGlkzJSlsmCYHwDSyZkpS2DBNDoBpZM2UpLBhmhwA08iaKUlhwzQ5AKaRNVOSwoZpcgBMI2umJIUN0+QAmEbWTEkKG6bJATCNrJmSFDZMkwNgGlkzJSlsmCYHwDSyZkrSDhmA95N7dJQmB8A0smZK0g4ZgPeTe3SUJgfANLJmStIOGYD3k3t0lCYHwDSyZkrSDhmA95N7dJQmB8A0smZK0g4ZgPeTe3SUJgfANLJmStIOGShJYQ25C0vSUZocANPImilJO2SgJIU15C4sSUdpcgBMI2umJO2QgZIU1pC7sCQdpckBMI2smZK0QwZKUlhD7sKSdJQmB8A0smZK0g4ZKElhDbkLS9JRmhwA08iaKUk7ZKAkhTXkLixJR2lyAEwja6Yk7ZCBkhTWkLuwJB2lyQEwjayZkrRDBkpSWEPuwpJ0lCYHwDSyZkrSDhkoSWENuQtL0lGaHADTyJopSTtkoCSFNeQuLElHaXIATCNrpiTtkIGSFNaQu7AkHaXJATCNrJmStEMGSlJYQ+7CknSUJgfANLJmStIOGShJYQ25C0vSUZocANPImilJO2SgJIU15C4sSUdpcgBMI2umJO2QgZKUd/L99ZH/PAcfH1/f+cJ/Tp5iSTpKkwNgGlkzJWmHDJSkvMru+/Oopn18fu3yhX92J0Vu76Nx0B12u++vz8+PvZzvx/7/fn5973515l/LYylJR2lyAEwja6Yk7ZCBkvQZFoWk5dAvPj+/Vq8UL9L4nixr2qOa3L7B7ftbznHZT6HLyKvlIZSkozQ5AKaRNVOSdshASfoE35+5xB0+Pv/jja71Tfk8/7fThzS5k7f+bvvl236jcvWSdJQmB8A0smZK0g4ZKEmfYKTJ/Wj+i+NznNWd5/9A2sua3P3f/VW6XK5dko7S5ACYRtZMSdohAyXpEww3uR8v6RWLh/j0q77sX1dHvvsrdLlcuSQdpckBMI2smZK0QwZK0if4XZPbW7xX9XCvb3KHmnb6iYfGj6g9tsmdf7Dh9CMXJ15f5XLhknSUJgfANLJmStIOGShJn2DZ5Jb/jHj4VOVJszn17GaxRpPr8IgmdzjH5Y8yNN4a/PH88nwm1y1JR2lyAEwja6Yk7ZCBkvQJOprcX/tC164Wz61W/+Emd8vyv87By59/rluSjtLkAJhG1kxJ2iEDJekT3NPkDnbtcnHzbaKf35Y29rvShpvcn7cSlxfdX/UBv9HjFU2u/a6cJreXx1KSAsBDZc2UpB0yUJI+wb1Nbq9ZL65MXfmRr+j7ObSLzq/9UxrztSuuffq24+83vKLJtd+Uu/lf6NFy3ZJ0lCYHwDSyZkrSDhkoSZ9goMm1+0V77HaLK/s2l5k/+ovcaYW6Y27v/KrR09Je0eTaT0aT28tjKUkB4KGyZkrSDhkoSZ9gqMm1qlyrxzTfUbpstJEdz91X5Paa/etdmlzzG/jyIqfJAbBVWTMlaYcMlKRPMNbkWhVjMXdnjzs4Pkf/+HGF+uVF402aXPPJvL7IaXIAbFXWTEnaIQMl6RMsy0JXU2i89XVWZBpH/Pw83N+Dmj/NdnSS1gnajh/x8VQ+UHH0sJqfvh1saT3H/Er7G7BCkdPkANiqrJmStEMGStInGGxyjbnTInPr67E4rHFUzzH//Bx9UhnPLAvS8hm/QZN7nx6nyQGwWVkzJWmHDJSkT7BsXA9pct3tq6MP3dfkbus43+pNrt3jHnmFe+TyJekoTQ6AaWTNlKQdMlCSPsFzmtwdLWdx6OL622tyy2/uwTrvxx3kAZSkozQ5AKaRNVOSdshASfoEz2lyi69ePukTm9zPbyNe/Grgpfdqcovz/rFej9PkANisrJmStEMGStInGGxyjbpxVGQulJE+i0I00ORO/wD+Lcvzrdfklv89Dh5y6nF5FCXpKE0OgGlkzZSkHTJQkj7BYJNrFI6juVWb3P0XX55vpSbXfugXfnvxC+WBlKSjNDkAppE1U5J2yEBJ+gRjTa5R5I57zK+a3OL6dzW5xiO76T2a3IVv2uo1bi8PpSQdpckBMI2smZK0QwZK0icYanI3itxvmlyjDt3R5BoX/vj5jSTHAx3ne32TazfQ1t+jXUEeTUk6SpMDYBpZMyVphwyUpE8w0ORaPe20xSyP+M07S/1Nru+679fkWt/Rt6lxe3lAJekoTQ6AaWTNlKQdMlCSPsHdTa755tF5iekvXx36T3Z+ZPvAjvO9tMl1fUdXlcdUko7S5ACYRtZMSdohAyXpEyxrxOUm1/xbVweLkeWbTL9oJv/pJrf8Tu2t/xmHU3lYJekoTQ6AaWTNlKQdMlCSPkFHk9vtdt+tv5FaWrWjUVCGis7B8lyXis7iySwPbDWn9Zrc8ru/92Y1bi8PrCQdpckBMI2smZK0QwZK0idodol7XOgdrcbU+PTBoSYeeuLhN/gejuhshfvjcpbD9N+fJ2s8mcMV89Xmn+w/WKvJNb9HfV7b9nLRknSUJgfANLJmStIOGShJn+BXTe7qvwIOnbnZhm6d6d/Q2LNZq8n95nv/0iqXa5akozQ5AKaRNVOSdshASfoEw23i6M2uSwbO3W5DN050NDT0Npcmd0OuWZKO0uQAmEbWTEnaIQMl6ROMtK3Pr97fj7G79/QX2tD1gnYydPOKhzcSTw9aq8ldf1bXaXKnkgLAQ2XNlKQdMlCSPkNHnTj8DfqPz8+vfYG7s6sc7Ntcd2G5UoaunOW81Vw+dF9Cfy5w8iHcxr8Rnz/mj69lceo55obxKvfSIqfJAbBVWTMlaYcMlKQT2x0+1XBohHlGJS3x8+v7dk3cHcrTyRn2oxfeH/z5eMPRsZeP5KZ8D0vSUZocANPImilJO2SgJIU15C4sSUdpcgBMI2umJO2QgZIU1pC7sCQdpckBMI2smZK0QwZKUlhD7sKSdJQmB8A0smZK0g4ZKElhDbkLS9JRmhwA08iaKUk7ZKAkhTXkLixJR2lyAEwja6Yk7ZCBkhTWkLuwJB2lyQEwjayZkrRDBkpSWEPuwpJ0lCYHwDSyZkrSDhkoSWENuQtL0lGaHADTyJopSTtkoCSFNeQuLElHaXIATCNrpiTtkIGSFNaQu7AkHaXJATCNrJmStEMGSlJYQ+7CknSUJgfANLJmStIOGShJYQ25C0vSUZocANPImilJO2SgJIU15C4sSUdpcgBMI2umJO2QgZIU1pC7sCQdpckBMI2smZK0QwZKUlhD7sKSdJQmB8A0smZK0g4ZKElhDbkLS9JRmhwA08iaKUk7ZKAkhTXkLixJR2lyAEwja6Yk7ZCBkhTWkLuwJB2lyQEwjayZkrRDBkpSWEPuwpJ0lCYHwDSyZkrSDhmA95N7dJQmB8A0smZK0g4ZgPeTe3SUJgfANLJmStIOGYD3k3t0lCYHwDSyZkrSDhmA95N7dJQmB8A0smZK0g4ZgPeTe3SUJgfANLJmSlLYME0OgGlkzZSksGGaHKv4/vzI3XLs4+Pz63uXQzrtvr8+muf67D/T7qv1cPZnyNdvOXsIHx9fzcld41kfjr35OE/nPr7u/BbBf0heBiUpbJgmxwq+P3OrNHUXqL3dV6vFRe+JLj6czs60fBDNwcvP+sYDPR9U5diwvApKUtgwTY7Xu1q/9vqbyvVK2HmeKyfpO8Ovm9yN62hy8FdeBSUpbJgmx+vdanK9VeUxjfBqG+w6xe+b3PW35TQ5+CuvgpIUNkyT4/VuNrnRAnWm6yxX+1XfOR7R5K51OU0O/sqroCSFDdPkeL1G8zn/0EJHWTk/y+IcXY3nrCUNneQxTe7ylTQ5+CuvgpIUNkyT4/WWzefzaxnd+LjCosh9fZ03pY7Gc17kvnaLvnX7LGNNblkaLz1nTQ7+yqugJIUN0+R4vUaT+25lObxpWeRGOtj5yOGa959msMl9fffNaXLwT14FJSlsmCbH6zVb231VrlVu7q9g5xN/rrg4z41SOdzkdsvB5qVaTxY2Kq+CkhQ2TJPj9dql7Z4q16xgiwZ2q/E0z9LIrz2Sg7Em93PS5aUa1zo/SJNjw/IqKElhwzQ5Xu9SZ1vUmksFqtWJGuPXG8/iUfy72rJfXXokP37R5Bqzy+HzQU2ODcuroCSFDdPkeL1LTW7ZoNoFqlmJGtNXG8+VItc41YVH8sdvmlzrWucXOz9Ck2PD8iooSWHDNDle72KT6ypjFytYz/BfV4tcq16dtatjv2tyjfGzeU0O/sqroCSFDdPkeL3LTa6jjV2uYPc0uRtF7r4q98sm17rYydXOv6zJsWF5FZSksGGaHK93pcndrGNXKtit0SM3i1yrXS2PiV83ucYZjk+hycFfeRWUpLBhmhyvd63J3ehj1ypYf5PrKHL3VLnfN7nW1f59/fxrmhwblldBSQobpsnxeleb3NVCtvha7+CJriLXKlft4x7S5Bon+XvE+aAmx4blVVCSwoZpcrze9SZ3pZFdrzSX5051FrnGCS8c+ZAm17pcznN+/gvPC7Ygr4KSFDZMk+P1bjS5i5XsPD9rNJfGziyvfofmKR/U5Fpd7udEmhz8lVdBSQobpsnxereaXKPRHA64UeQ6m9yvilz7nA9rcq0Htz9Kk4O/8iooSWHDNDle72aTa1a5W0Wur8n9ssg1T/q4Jtd65su/tK/JsWF5FZSkHTIA7yf36ChNjte73eQahebcss70NLlfF7nWWR/Z5FqP8ONDk4PIq6Ak7ZABeD+5R0dpcrxeR5O7WeUabaajyT2gyDVO+9Amd/upa3JsWV4FJWmHDMD7yT06SpPj9Xqa3I0+0yozt5tcR9dbaL1Hdjb14CZ3s292PGr4r8qroCTtkAF4P7lHR2lyvF5Xk7ta5bqa0uKo5Rkvlqkjt6vco5vc9eeuybFpeRWUpB0yAO8n9+goTY7X62tyV96aanegW01urMh1VLnHN7krz31Pk2PD8iooSTtkoCSFNeQuLElHaXK8XmeTu1hnLlSgG01utMi1Jk9P/YQm17xo0eTYsLwKStIOGShJYQ25C0vSUZocr9fb5C5UuUsN6HqTGy9yN6vcU5rclS6nybFheRWUpB0yUJLCGnIXlqSjNDler7vJNavcxQJ0tcn9psjdqnJPanIXiux9jxz+Y/IqKEk7ZKAkhTXkLixJR2lyrGBfUY47ysfn5TeZvj9P2sy1Q3enx358fB01nvNWdOf7WtfL2vfZ8zm58l+n5/j4/O54BLuv0+ffOwf/VXkhlKQdMlCSwhpyF5akozQ5AKaRNVOSdshASQpryF1Yko7S5ACYRtZMSdohAyUprCF3YUk6SpMDYBpZMyVphwyUpLCG3IUl6ShNDoBpZM2UpB0yUJLCGnIXlqSjNDkAppE1U5J2yEBJCmvIXViSjtLkAJhG1kxJ2iEDJSmsIXdhSTpKkwNgGlkzJWmHDJSksIbchSXpKE0OgGlkzZSkHTJQksIacheWpKM0OQCmkTVTknbIQEkKa8hdWJKO0uQAmEbWTEnaIQMlKawhd2FJOkqTA2AaWTMlaYcMlKSwhtyFJekoTQ6AaWTNlKQdMlCS8pa+T/9KdftPWc8sz6wkHaXJATCNrJmStEMGSlJebvf9eVTTPj6/dvnCP7uTIrf30Tio3273/fX1+bGX0/2x//+fX1/fvznzsDyEknSUJgfANLJmStIOGShJn2pRSFoOBePzp1GsUilerfE9Wda0RzW5fYM7bo2X7Avdq/tcrlySjtLkAJhG1kxJ2iEDJekzfX/mWnf4+PyPN7rWN+Xz/N9OH9Lk7vz277/xGXyFXLQkHaXJATCNrJmStEMGStJnGmlyP5r/4vgcJ//SeWhMz/6BtJc1ufu/+7/7J9z75JIl6ShNDoBpZM2UpB0yUJI+03CT+/GSXrF4iE+/6sv+dXXku7+olE+TC5akozQ5AKaRNVOSdshASfpMv2tye88vFq9vcoeadvqJh8a/aj64yf35YMO/M1z+8bmXVblcryQdpckBMI2smZK0QwZK0mdaNrnlPyPmY5X5+sKzi9UaTa7DI5rc4RzXPsrQ7Nkve/q5Xkk6SpMDYBpZMyVphwyUpM/U0eT+2he6dp17brf4Dze5mxYX2dPk/kkKAA+VNVOSdshASfpM9zS5g13zbaLb/+J3eF/v8NvScvyPn9+VdvtjsMNN7s9bicuL/vmHzBw07CVNrvWunCb3T1IAeKismZK0QwZK0me6t8nttd4nujZ1+lt2W/p+Du2i82tf/hGzE9c+fdvx9xtWe0/u5n+gR8n1StJRmhwA08iaKUk7ZKAkfaaBJtd8o+jC2O0WV/ZtLjN/9Be50wp1x9ze+VWjp6W9pMmt+ZacJgfAVmXNlKQdMlCSPtNQk+stGK3Gd8VoIzueu6/I7TWL0Xs0ueZz6fnP8yC5Ykk6SpMDYBpZMyVphwyUpM801uRaHW0xd2ePOzg+R//4cYX65UVj5SZ3+LTw59kfYP3jhT1OkwNgs7JmStIOGShJn2mwyTXeLjorMq03lE7+zFfzp9mOTtJ8R6rp+BEfT+UDFUcPq/np28GW1nNMp876OX6BMblsSTpKkwNgGlkzJWmHDJSkzzTY5Bpzpz3j1tdjcVjjqJ5j/vk5+qQynlk2xOUzfm2TWz6ic9d+59zz5OIl6ShNDoBpZM2UpB0yUJI+07JxPaTJdbevjj50X5O7reN879bk8vZijn+VXLskHaXJATCNrJmStEMGStJnek6Tu6PlLA5dXF+T+6v561qeJhctSUdpcgBMI2umJO2QgZL0mZ7T5BZfvXzSJza5n99GvPjVwEtrN7nGN/OK8cvcKxcsSUdpcgBMI2umJO2QgZL0mQabXONtpKOG0f8mU8OiqQw0udM/gH/L8nwvbnILP3/q9vJT6Cvbv5arlaSjNDkAppE1U5J2yEBJ+kyDTa7xLtLR3KpN7v6Lv1+TKxf+NtozLtWQi5WkozQ5AKaRNVOSdshASfpMY02uUTCOy8Wvmtzi+nc1uQvV56rl+d6lye21n9BL3pXLtUrSUZocANPImilJO2SgJH2moSZ3o8j9psk16tAdTa5x4Y+f30hyPNBxvjdqcu1v5pOudSrXKklHaXIATCNrpiTtkIGS9JkGmlyrWpw2i+URv3kPqb/J9V13sibX+E+094o35XKpknSUJgfANLJmStIOGShJn+nuJtfsFeclpr98deg/2fmR7QM7zvdOTW5ZT/eedK1TuVZJOkqTA2AaWTMlaYcMlKTPtCxml5tc829dHSxGlu3jF9Vj202uWeRe8pacJgfAVmXNlKQdMlCSPlNHkzv8Sox7fydGo38MF53luS71mMWTWR7YKkZrNbnDGW787YbWw917Tmk8l4uVpKM0OQCmkTVTknbIQEn6TMsmd6cLrapZQZafPjjUxENPPPwG38MRna1wf1zOcpj+W4UaT+boryJc/BVtazW5o4e7L3Tnf+z/ym+Uu9RkHyxXK0lHaXIATCNrpiTtkIGS9Jl+1eT2NSmnaRg6c7MN3TrTv6GxZ/MGTe4ed19nVK5Xko7S5ACYRtZMSdohAyXpMw03uY4/ATpw7nZLuXGio6HW+3c3LS/6xk3uRe/HHeSKJekoTQ6AaWTNlKQdMlCSPtNI27r+o13HLv2NgosutKHrBe1k6OYVD28knh60VpO7+5vf0Z4fKVctSUdpcgBMI2umJO2QgZL0qa6XpB+Hv0H/8fnnJ7kydYd9m7t5hXKlDF05y/nbVJcP3ZfQnwucfAi38W/E54/542v5TljPMbf1fnfuqM8Pk0uXpKM0OQCmkTVTknbIQEn6X7A7fKrh0Ajz1Epa4r6n3K6Ju0PtOTnDfvRCwfn5vMDRsZePfAs/356zJ/fzzTl8Z0b68yPkUZSkozQ5AKaRNVOSdshASQpryF1Yko7S5ACYRtZMSdohAyUprCF3YUk6SpMDYBpZMyVphwyUpLCG3IUl6ShNDoBpZM2UpB0yUJLCGnIXlqSjNDkAppE1U5J2yEBJCmvIXViSjtLkAJhG1kxJ2iEDJSmsIXdhSTpKkwNgGlkzJWmHDJSksIbchSXpKE0OgGlkzZSkHTJQksIacheWpKM0OQCmkTVTknbIQEkKa8hdWJKO0uQAmEbWTEnaIQMlKawhd2FJOkqTA2AaWTMlaYcMlKSwhtyFJekoTQ6AaWTNlKQdMlCSwhpyF5akozQ5AKaRNVOSdshASQpryF1Yko7S5ACYRtZMSdohAyUprCF3YUk6SpMDYBpZMyVphwyUpLCG3IUl6ShNDoBpZM2UpB0yUJLCGnIXlqSjNDkAppE1U5J2yEBJCmvIXViSjtLkAJhG1kxJ2iED8H5yj47S5ACYRtZMSdohA/B+co+O0uQAmEbWTEnaIQPwfnKPjtLkAJhG1kxJ2iED8H5yj47S5ACYRtZMSdohA/B+co+O0uQAmEbWTEkKG6bJATCNrJmSFDZMkwNgGlkzJSlsmCYHwDSyZkpS2DBNDoBpZM2UpLBhmhwA08iaKUlhwzQ5AKaRNVOSwoZpcgBMI2umJIUN0+QAmEbWTEkKG6bJATCNrJmSFDZMkwNgGlkzJSlsmCYHwDSyZkpS2DBNDoBpZM2UpLBhmhwA08iaKUlhwzQ5AKaRNVOSwoZpcgBMI2umJIUN0+QAmEbWTEkKG6bJATCNrJmSFDZMkwNgGlkzJSlsmCYHwDSyZkpS2DBNDoBpZM2UpLBhmhwA08iaKUk7ZADeT+7RUZocANPImilJO2QA3k/u0VGaHADTyJopSTtkAN5P7tFRmhwA08iaKUk7ZADeT+7RUZocANPImilJO2QA3k/u0VGaHADTyJopSTtkoCSFNeQuLElHaXIATCNrpiTtkIGSFNaQu7AkHaXJATCNrJmStEMGSlJYQ+7CknSUJgfANLJmStIOGShJYQ25C0vSUZocANPImilJO2SgJIU15C4sSUdpcgBMI2umJO2QgZIU1pC7sCQdpckBMI2smZK0QwZKUlhD7sKSdJQmB8A0smZK0g4ZKElhDbkLS9JRmhwA08iaKUk7ZKAkhTXkLixJR2lyAEwja6Yk7ZCBkhTWkLuwJB2lyQEwjayZkrRDBkpSWEPuwpJ0lCYHwDSyZkrSDhkoSWENuQtL0lGaHADTyJopSTtkoCSFNeQuLElHaXIATCNrpiTtkIGSFNaQu7AkHaXJATCNrJmStEMGSlJYQ+7CknSUJgfANLJmStIOGShJYQ25C0vSUZocANPImilJO2SgJOX9fH995D/SwcfH13e+8B+SJ1eSjtLkAJhG1kxJ2iEDJSmvtfv+PKppH59fu3zhn91Jkdv7aBw0uzy1knSUJgfANLJmStIOGShJn2dRSFo+9j4/v76+d/+9stLQ+J4sa9pTm9yhSS7/u+z/I7z4fb9cuCQdpckBMI2smZK0QwZK0qf5/syF7rDvE//tRtf6piw61BOb3JV2/eIql6uWpKM0OQCmkTVTknbIQEn6NCNN7kfzXxyf4+RfOg+N6dltZt0md6XHaXJ7eSwlKQA8VNZMSdohAyXp0ww3uR8v+dGwxUN8+lUbXWp5zWc1uev/RTQ5TQ6AV8iaKUk7ZKAkfZrfNbm951eL1ze5Q007/cTD9/KKz2lyV9+Q29PkNDkAXiFrpiTtkIGS9GmWTW75z4i73ffXSbM59exitUaT6/CMJnd2zo/PxXddk9PkAHiFrJmStEMGStKn6Whyf+0LXbvOPbdabafJnT3Tz+/lO3SanCYHwCtkzZSkHTJQkj7NPU3uYLccOLhZMA7v631+nP5mjcOvNun4xSbDTe7PW4nLi+6vur9sDhr28CZ39jwPp9PkGvJYSlIAeKismZK0QwZK0qe5t8ntLevF3pWp09+y29L3c2gXnV/7pzTma1dc+/Rtx99veHCTOzvdn5Npcg15LCUpADxU1kxJ2iEDJenTDDS51tClsdstrpz/0tv+Indaoe6Y27vwq3Z7WlrPMf3OvqV5WJpcQx5LSQoAD5U1U5J2yEBJ+jRDTa5V5Vo9ptX4rhhtZMdz9xW5vWb/enWTO/tG/T2TJteQx1KSAsBDZc2UpB0yUJI+zViTa3W0xdydPe7g+Bz948cV6pcXjdc2ubMzHZ1Hk2vIYylJAeChsmZK0g4ZKEmfZrDJLSvGeZFpHPHz83D/Wkrrp9mutphLjh/x8VQ+UHH0sJqfvh1saT3HdDn7T3Dp2fyhyWlyALxC1kxJ2iEDJenTDDa5xtxpkbn19Vgc1jiq55h/fo4+qYxnetrRC5vc2bM7fSyaXEMeS0kKAA+VNVOSdshASfo0y8b1kCbX3b46+lD3uTp1nO9lTe7sJOen0OQa8lhKUgB4qKyZkrRDBkrSp3lOk7uj5SwOXVz/v9vkzk+xeOqLa2hymhwAL5E1U5J2yEBJ+jTPaXKLr14+6ROb3M9vI178auCltZrc2RNrfI80uYY8lpIUAB4qa6Yk7ZCBkvRpBpvcsmIcF5nGV/stCtFAkzv9A/i3LM/3iiZ3Nt+cXn4jNTlNDoBXyJopSTtkoCR9msEmtxw7nlu1yd1/8eX5elpazzFXnD2r9nddk2vIYylJAeChsmZK0g4ZKEmfZqzJNYrccY/5VZNbXP+uJtd4ZDet0eR+9S368ZJOl2uVpKM0OQCmkTVTknbIQEn6NENN7kaR+01NadShO5pc48IfP7+R5Hig43wzNLm7Ljcq1ypJR2lyAEwja6Yk7ZCBkvRpBppcq4Sc1orlEb95A6m/yfVdV5Prl2uVpKM0OQCmkTVTknbIQEn6NHc3ueXA3nmr6C9fHfpPdn5k+8CO82lykWuVpKM0OQCmkTVTknbIQEn6NMtidrnJNf/W1cFiZNlTftE7/pNN7vdV7jdvc3bLtUrSUZocANPImilJO2SgJH2ajia32+2+W38jtbQqRaOn3Fd0jizPdanELJ7M8sBWgVqlyXXpf+pPkquWpKM0OQCmkTVTknbIQEn6NMsmd6cL1aLVmBqfPjjUxENPPPwG38MRna1wf1zOcpiu/916Mocr5qvNP9l/oMldlKuWpKM0OQCmkTVTknbIQEn6NL9qcvualNM0DJ252YZunenf0Niz0eQuylVL0lGaHADTyJopSTtkoCR9muEmd/Rm1yUD5263oRsnOhpaVp8OmtxFuWpJOkqTA2AaWTMlaYcMlKRPM9K2Pr9ulrjY3Xv6C23oekE7Gbp5xcMbiacHaXIX5aol6ShNDoBpZM2UpB0yUJI+z/WS9OPwN+g/Pj+/9gVuoKvs29zNK5QrZejKWc7bzeVD9yX05wInH8Jt/Bvx+WP++FoWqJ5jfu3sv87HE9riVbluSTpKkwNgGlkzJWmHDJSk09sdPtVwaIR5XiUt8fPr+3ZN3B3K08kZ9qMX3h/8+XjD0bGXj+SKfPdK0lGaHADTyJopSTtkoCSFNeQuLElHaXIATCNrpiTtkIGSFNaQu7AkHaXJATCNrJmStEMGSlJYQ+7CknSUJgfANLJmStIOGShJYQ25C0vSUZocANPImilJO2SgJIU15C4sSUdpcgBMI2umJO2QgZIU1pC7sCQdpckBMI2smZK0QwZKUlhD7sKSdJQmB8A0smZK0g4ZKElhDbkLS9JRmhwA08iaKUk7ZKAkhTXkLixJR2lyAEwja6Yk7ZCBkhTWkLuwJB2lyQEwjayZkrRDBkpSWEPuwpJ0lCYHwDSyZkrSDhkoSWENuQtL0lGaHADTyJopSTtkoCSFNeQuLElHaXIATCNrpiTtkIGSFNaQu7AkHaXJATCNrJmStEMGSlJYQ+7CknSUJgfANLJmStIOGShJYQ25C0vSUZocANPImilJO2SgJIU15C4sSUdpcgBMI2umJO2QAXg/uUdHaXIATCNrpiTtkAF4P7lHR2lyAEwja6Yk7ZABeD+5R0c9pckBwAtkCXXIALyf3KOjNDkAZpUl1CED8H5yj47S5ACYVZYQbJgmB8CssoRgwzQ5AGaVJQQb5mUAADArTQ4AYFaaHADArDQ5AIBZaXIAALPS5AAAZqXJAQDMSpMDAJiVJgcAMCtNDgBgVpocAMCsNDkAgFlpcgAAs3pAk/sfALxclhBsmyYHwJSyhGDbNDkAppQlBNumyQEwpSwh2DZNDoApZQnBtj2+ySUFgIfKmilJYds0OQDmkDVTksK2aXIAzCFrpiSFbdPkAJhD1kxJCtumyQEwh6yZkhS2TZMDYA5ZMyUpbJsmB8AcsmZKUtg2TQ6AOWTNlKSwbZocAHPImilJYds0OQDmkDVTksK2aXIAzCFrpiSFbdPkAJhD1kxJCtumyQEwh6yZkhS2TZMDYA5ZMyUpbJsmB8AcsmZKUtg2TQ6AOWTNlKSwbZocAHPImilJYds0OQDmkDVTksK2aXIAzCFrpiSFbdPkAJhD1kxJCtumyQEwh6yZkhS2TZMDYA5ZMyUpbJsmB8AcsmZKUtg2TQ6AOWTNlKSwbZocAHPImilJYds0OQDmkDVTksK2aXIAzCFrpiSFbdPkAJhD1kxJCtumyQEwh6yZkhS2TZMDYA5ZMyUpbJsmB8AcsmZKUtg2TQ6AOWTNlKSwbZocAHPImilJYds0OQDmkDVTksK2aXIAzCFrpiSFbdPkAJhD1kxJCtumyQEwh6yZkhS2TZMDYA5ZMyUpbJsmB8AcsmZKUtg2TY4t2n1/fX1+7OWujUPy+fn1/b3LceN2399fn1cusfv9JWBz8jIqSWHbNDne3W7fuXJz/fj4/BpuQbvd9+nJrvj4HCl091zh8FQeUBphM/LKKUlh2zQ53t33Z26tvz6/86W73FOx/rqnzu2+zzpnn/0lcgLgurxoSlLYNk2Od/eQJjfS4kpXmdt9jV9gsJrC5uQVU5LCtmlyvLvfN7lftayDjxv/nvvbC2hy0CWvmJIUtk2T4939tskt5//4+SG144a2u/bPo1eueekCdYnTa/xc5Owqt5oi8COvmJIUtk2T4939rsm1a9a16rS7a+TS23Eftz7LcFwbvScHXfKKKUlh2zQ53t1vmlyzZ91+B6x/rNn67vgMw8/HMLwlB33yEitJYds0Od7dL5pcq5H11aa+yWbj8wYbPEteZCUpbJsmx7sbb3KtotXdsxrvtp1XufGiCIzIy6wkhW3T5Hh3w02uUbTu6VmNKnd64V8VReB+eZ2VpLBtmhzvbrjJ3axi190qgr8sisDd8korSWHbNDne3WiT+3XTutEEf1kUgbvllVaSwrZpcry70Sb366Z1vQo2vqrIwXPlpVaSwrZpcry7uZtc47Bz/k0WOuU1U5LCtmlyvLvBJne9h/W4foblw2qdvqPI7XkzD7rkFVOSwrZpcrw7TQ74I6+YkhS2TZPj3Q02ucbcnY3p3ibXOr0mBw+UV0xJCtumyfHuVmty10/Q6Git03dVOU0OuuQVU5LCtmlyvLsHNrn7/nn17ibXefrRJwSbl1dMSQrbpsnx7kaLT+vdsHsq062qNtwUNTkYlFdMSQrbpsnx7oaLz3DV+nH7PbfR82tyMCivmJIUtk2T490NF5/Wm3LdVa7jHb3WIT2PTZODQXnFlKSwbZoc7268+PyiyjXeb2tctnXU7QtocjAor5iSFLZNk+Pd/aL4NN816+hy3Q2tdeDh8V29giYHg/KKKUlh2zQ53t2vik+7al0rc7vvz0b9u3jN9gX2V7jc5jQ5GJRXTEkK26bJ8e4udKWLTmtR8225g4/PfdnaHdWt3e77q1ni9q5UrYsX+LnE4Ro5cO/PJZbHa3LQJa+YkhS2TZPj3d3b5M7fcLtStTrdKlrtd/HuoMlBl7xiSlLYNk2Od3dvk2v0ortPceTGD73F78qcJgdd8oopSWHbNDne3W/fk/tj6J25jg9H/HPhB+w63HUZ2LC8ZEpS2DZNjrd3Zwm7/AbXoWt1nurnp+gydo8rP2vX8vHxefKDdMA1eeGUpLBtmhyb8/O5g32nO291h+Tz53MQOXDc4RJ/rpFzlz/X2F9EgYP75XVUksK2aXIAzCFrpiSFbdPkAJhD1kxJCtumyQEwh6yZkhS2TZMDYA5ZMyUpbJsmB8AcsmZKUtg2TQ6AOWTNlKSwbZocAHPImilJYds0OQDmkDVTksK2aXIAzCFrpiSFbdPkAJhD1kxJCtumyQEwh6yZkhS2TZMDYA5ZMyUpbJsmB8AcsmZKUtg2TQ6AOWTNlKSwbZocAHPImilJYds0OQDmkDVTksK2aXIAzCFrpiSFbdPkAJhD1kxJCtumyQEwh6yZkhS2TZMDYA5ZMyUpbJsmB8AcsmZKUtg2TQ6AOWTNlKSwbZocAHPImilJYds0OQDmkDVTksK2aXIAzCFrpiSFbdPkAJhD1kxJCtumyQEwh6yZkhS2TZMDYA5ZMyUpbJsmB8AcsmZKUtg2TQ6AOWTNlKSwbZocAHPImilJYds0OQDmkDVTksK2aXIAzCFrpiSFbdPkAJhD1kxJCtumyQEwh6yZkhS2TZMDYA5ZMyUpbJsmB8AcsmZKUtg2TQ6AOWTNlKSwbZocAHPImilJYds0OQDmkDVTksK2aXIAzCFrpiSFbdPkAJhD1kxJCtumyQEwh6yZkhS2TZMDYA5ZMyUpbJsmB8AcsmZKUtg2TQ6AOWTNlKSwbZocAHPImilJYds0OQDmkDVTksK2aXIAzCFrpiSFbdPkAJhD1kxJCtumyQEwh6yZkhS2TZMDYA5ZMyUpbJsmB8AcsmZKUtg2TQ6AOWTNlKSwbZocAHPImilJYds0OQDmkDVTksK2aXIAzCFrpiSFbdPkAJhD1kxJCtv2+CYHAC+QJQTbpskBMKUsIdg2TQ6AKWUJwbZpcgBMKUsItk2TA2BKWUKwbV4JAACz0uQAAGalyQEAzEqTAwCYlSYHADArTQ4AYFaaHADArDQ5AIBZaXIAALPS5AAAZqXJAQDMSpMDAJiVJgcAMCtNDgBgVpocAMCsNDkAgDn93//9Pz5Zrvg1rNA8AAAAAElFTkSuQmCC\">"
   ]
  },
  {
   "cell_type": "markdown",
   "metadata": {
    "pycharm": {
     "name": "#%% md\n"
    }
   },
   "source": [
    "Во всех областях должны быть показаны по 2 графика (f(x) и g(x)). \n",
    "\n",
    "Отличаться будет масштаб осей и интервал аргументов и функций, которые выводятся.\n",
    "\n",
    "- MAIN - основное изображение - линейный масштаб, x в интервале от 0 до 500\n",
    "\n",
    "- LOG - логарифмический масштаб вдоль оси Y. X в интервале от 0 до 500\n",
    "\n",
    "- Detail (1-4) - 4 графика с линейным масштабом и таким интервалом x и y, чтобы было видно хотя бы по 1 точке пересечения\n",
    "\n",
    "Таким образом, мы эмулируем ситуацию одного большого окна для детального просмотра, одного вспомогательного окна с изменённым масштабом и нескольких окон, акцентирующих внимание на важных деталях. При этом, если вы используете достаточно много точек в основном масштабе, то в интервактивном режиме вы можете приблизить какой-то интервал, соответсвующий, например, окнам detail и убедиться, что графики действительно пересекаются.\n",
    "\n",
    "Убедитесь, что на всех фигурах кривые, соответсвующие одной функции выводятся одним цветом.\n",
    "\n",
    "Легенду и подписи выводить не обязательно.\n",
    "\n",
    "Рекомендуется изменить отступ от краёв фигуры и, возможно, размер самой фигуры.\n",
    "\n",
    "*Примечание. Чтобы задать логарифмический масштаб используйте атрибут <code>type=\"log\"</code> метода update_yaxes, не забыв применить его к конкретной ячейке фигуры с графиком.*"
   ]
  },
  {
   "cell_type": "code",
   "execution_count": 6,
   "metadata": {
    "pycharm": {
     "name": "#%%\n"
    }
   },
   "outputs": [],
   "source": [
    "import plotly\n",
    "import plotly.graph_objs as go\n",
    "import plotly.express as px\n",
    "from plotly.subplots import make_subplots\n",
    "\n",
    "import numpy as np\n",
    "import pandas as pd"
   ]
  },
  {
   "cell_type": "code",
   "execution_count": 7,
   "metadata": {
    "pycharm": {
     "name": "#%%\n"
    }
   },
   "outputs": [],
   "source": [
    "def f(x):\n",
    "    return np.sin(5*x) * np.exp(10*x) + 5*np.exp(-2*x)\n",
    "\n",
    "def g(x):\n",
    "    return 1 - x**3 + x**5\n",
    "\n",
    "x = np.linspace(-10, 10, 221)\n"
   ]
  },
  {
   "cell_type": "code",
   "execution_count": 8,
   "metadata": {
    "pycharm": {
     "name": "#%%\n"
    }
   },
   "outputs": [],
   "source": [
    "fig = make_subplots(rows=2, cols=2, \n",
    "                    specs=[[{\"type\": \"scatter\"}]*2]*2,\n",
    "                    subplot_titles=(\"MAIN\", \"DETAIL 1\", \"LOG\", \"DETAIL 2\"))\n",
    "\n"
   ]
  },
  {
   "cell_type": "code",
   "execution_count": 9,
   "metadata": {
    "pycharm": {
     "name": "#%%\n"
    }
   },
   "outputs": [
    {
     "ename": "ValueError",
     "evalue": "operands could not be broadcast together with shapes (10,) (20,) ",
     "output_type": "error",
     "traceback": [
      "\u001B[1;31m---------------------------------------------------------------------------\u001B[0m",
      "\u001B[1;31mValueError\u001B[0m                                Traceback (most recent call last)",
      "Cell \u001B[1;32mIn[9], line 17\u001B[0m\n\u001B[0;32m     15\u001B[0m xlim_1 \u001B[38;5;241m=\u001B[39m change_points[\u001B[38;5;241m1\u001B[39m]\n\u001B[0;32m     16\u001B[0m xlim_2 \u001B[38;5;241m=\u001B[39m change_points[\u001B[38;5;241m3\u001B[39m]\n\u001B[1;32m---> 17\u001B[0m ymax \u001B[38;5;241m=\u001B[39m \u001B[38;5;28mmax\u001B[39m(np\u001B[38;5;241m.\u001B[39mmax(\u001B[43mf\u001B[49m\u001B[43m(\u001B[49m\u001B[43mxlim_1\u001B[49m\u001B[43m)\u001B[49m), np\u001B[38;5;241m.\u001B[39mmax(g(xlim_1)), np\u001B[38;5;241m.\u001B[39mmax(f(xlim_2)), np\u001B[38;5;241m.\u001B[39mmax(g(xlim_2)))\n\u001B[0;32m     18\u001B[0m ymin \u001B[38;5;241m=\u001B[39m \u001B[38;5;28mmin\u001B[39m(np\u001B[38;5;241m.\u001B[39mmin(f(xlim_1)), np\u001B[38;5;241m.\u001B[39mmin(g(xlim_1)), np\u001B[38;5;241m.\u001B[39mmin(f(xlim_2)), np\u001B[38;5;241m.\u001B[39mmin(g(xlim_2)))\n\u001B[0;32m     19\u001B[0m ylim_1 \u001B[38;5;241m=\u001B[39m (ymin \u001B[38;5;241m-\u001B[39m \u001B[38;5;241m0.1\u001B[39m\u001B[38;5;241m*\u001B[39m\u001B[38;5;28mabs\u001B[39m(ymin), ymax \u001B[38;5;241m+\u001B[39m \u001B[38;5;241m0.1\u001B[39m\u001B[38;5;241m*\u001B[39m\u001B[38;5;28mabs\u001B[39m(ymax))\n",
      "Cell \u001B[1;32mIn[7], line 2\u001B[0m, in \u001B[0;36mf\u001B[1;34m(x)\u001B[0m\n\u001B[0;32m      1\u001B[0m \u001B[38;5;28;01mdef\u001B[39;00m \u001B[38;5;21mf\u001B[39m(x):\n\u001B[1;32m----> 2\u001B[0m     \u001B[38;5;28;01mreturn\u001B[39;00m \u001B[43mnp\u001B[49m\u001B[38;5;241;43m.\u001B[39;49m\u001B[43msin\u001B[49m\u001B[43m(\u001B[49m\u001B[38;5;241;43m5\u001B[39;49m\u001B[38;5;241;43m*\u001B[39;49m\u001B[43mx\u001B[49m\u001B[43m)\u001B[49m\u001B[43m \u001B[49m\u001B[38;5;241;43m*\u001B[39;49m\u001B[43m \u001B[49m\u001B[43mnp\u001B[49m\u001B[38;5;241;43m.\u001B[39;49m\u001B[43mexp\u001B[49m\u001B[43m(\u001B[49m\u001B[38;5;241;43m10\u001B[39;49m\u001B[38;5;241;43m*\u001B[39;49m\u001B[43mx\u001B[49m\u001B[43m)\u001B[49m \u001B[38;5;241m+\u001B[39m \u001B[38;5;241m5\u001B[39m\u001B[38;5;241m*\u001B[39mnp\u001B[38;5;241m.\u001B[39mexp(\u001B[38;5;241m-\u001B[39m\u001B[38;5;241m2\u001B[39m\u001B[38;5;241m*\u001B[39mx)\n",
      "\u001B[1;31mValueError\u001B[0m: operands could not be broadcast together with shapes (10,) (20,) "
     ]
    }
   ],
   "source": [
    "x_intersect = np.roots(f(x)-g(x)) # Значения x, в которые f(x) == g(x)\n",
    "\n",
    "# Создадим кортежи с левыми и правыми границами интервалов смены логики пересечений\n",
    "change_points = [(0, x_intersect[0]), (x_intersect[0], x_intersect[1]), \n",
    "                 (x_intersect[1], x_intersect[2]), (x_intersect[2], 500)]\n",
    "\n",
    "# Определим функцию для определенного интервала\n",
    "def f_segment(x, segment):\n",
    "    return f(x) if (x > segment[0] and x < segment[1]) else None\n",
    "\n",
    "def g_segment(x, segment):\n",
    "    return g(x) if (x > segment[0] and x < segment[1]) else None\n",
    "\n",
    "# Зададим интервалы для DETAIL 1 и DETAIL 2\n",
    "xlim_1 = change_points[1]\n",
    "xlim_2 = change_points[3]\n",
    "ymax = max(np.max(f(xlim_1)), np.max(g(xlim_1)), np.max(f(xlim_2)), np.max(g(xlim_2)))\n",
    "ymin = min(np.min(f(xlim_1)), np.min(g(xlim_1)), np.min(f(xlim_2)), np.min(g(xlim_2)))\n",
    "ylim_1 = (ymin - 0.1*abs(ymin), ymax + 0.1*abs(ymax))\n",
    "ylim_2 = ylim_1"
   ]
  },
  {
   "cell_type": "code",
   "execution_count": null,
   "metadata": {
    "pycharm": {
     "name": "#%%\n"
    }
   },
   "outputs": [],
   "source": [
    "x = np.linspace(0, 500, 201)\n",
    "\n",
    "fig.add_trace(\n",
    "    go.Scatter(x=x, y=f(x), name=\"f(x)\", line=dict(color='red')),\n",
    "    row=1, col=1\n",
    ")\n",
    "\n",
    "fig.add_trace(\n",
    "    go.Scatter(x=x, y=g(x), name=\"g(x)\", line=dict(color='blue')),\n",
    "    row=1, col=1\n",
    ")\n",
    "\n",
    "fig.update_xaxes(title_text=\"x\", row=1, col=1)\n",
    "fig.update_yaxes(title_text=\"y\", row=1, col=1)\n",
    "\n",
    "fig.add_trace(\n",
    "    go.Scatter(x=x, y=f(x), name=\"f(x)\", line=dict(color='red')),\n",
    "    row=2, col=1\n",
    ")\n",
    "\n",
    "fig.add_trace(\n",
    "    go.Scatter(x=x, y=g(x), name=\"g(x)\", line=dict(color='blue')),\n",
    "    row=2, col=1\n",
    ")\n",
    "\n",
    "fig.update_xaxes(title_text=\"x\", row=2, col=1)\n",
    "fig.update_yaxes(title_text=\"y (log scale)\", type=\"log\", row=2, col=1)\n",
    "\n",
    "fig.add_trace(\n",
    "    go.Scatter(x=x, y=f_segment(x, xlim_1), name=\"f(x)\", line=dict(color='red')),\n",
    "    row=2, col=1\n",
    ")\n",
    "\n",
    "fig.add_trace(\n",
    "    go.Scatter(x=x, y=g_segment(x, xlim_1), name=\"g(x)\", line=dict(color='blue')),\n",
    "    row=2, col=1\n",
    ")\n",
    "fig.update_xaxes(title_text=\"x\", range=xlim_1, row=2, col=1)\n",
    "fig.update_yaxes(title_text=\"y\", range=ylim_1, row=2, col=1)\n",
    "\n",
    "\n",
    "fig.add_trace(\n",
    "    go.Scatter(x=x, y=f_segment(x, xlim_2), name=\"f(x)\", line=dict(color='red')),\n",
    "    row=2, col=2\n",
    ")\n",
    "\n",
    "fig.add_trace(\n",
    "    go.Scatter(x=x, y=g_segment(x, xlim_2), name=\"g(x)\", line=dict(color='blue')),\n",
    "    row=2, col=2\n",
    ")\n",
    "fig.update_xaxes(title_text=\"x\", range=xlim_2, row=2, col=2)\n",
    "fig.update_yaxes(title_text=\"y\", range=ylim_2, row=2, col=2)\n",
    "\n",
    "\n",
    "fig.show()\n"
   ]
  },
  {
   "cell_type": "code",
   "execution_count": null,
   "outputs": [],
   "source": [],
   "metadata": {
    "collapsed": false,
    "pycharm": {
     "name": "#%%\n"
    }
   }
  }
 ],
 "metadata": {
  "kernelspec": {
   "display_name": "Python 3",
   "language": "python",
   "name": "python3"
  },
  "language_info": {
   "codemirror_mode": {
    "name": "ipython",
    "version": 3
   },
   "file_extension": ".py",
   "mimetype": "text/x-python",
   "name": "python",
   "nbconvert_exporter": "python",
   "pygments_lexer": "ipython3",
   "version": "3.10.9"
  }
 },
 "nbformat": 4,
 "nbformat_minor": 4
}