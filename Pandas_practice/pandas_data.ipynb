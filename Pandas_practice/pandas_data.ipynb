{
 "cells": [
  {
   "cell_type": "code",
   "execution_count": 51,
   "metadata": {
    "collapsed": true,
    "pycharm": {
     "name": "#%%\n"
    }
   },
   "outputs": [
    {
     "data": {
      "text/plain": "         Date  Berri 1  Côte-Sainte-Catherine  Maisonneuve 1  Maisonneuve 2  \\\n0  2012-08-07     4756                   1497           2407           4495   \n1  2012-03-17      681                    287            422            872   \n2  2012-05-22     2315                    938           1847           2599   \n3  2012-06-20     5713                   2402           3524           6848   \n4  2012-02-28      195                      0            158            350   \n..        ...      ...                    ...            ...            ...   \n95 2012-10-28     1310                    697            910           1776   \n96 2012-09-10     4787                   2210           3026           5138   \n97 2012-09-03      371                      8            279            575   \n98 2012-01-04      662                    341            442            824   \n99 2012-07-24     5243                   2318           3465           6721   \n\n    du Parc  Pierre-Dupuy  Rachel1  \n0      2089          4386     5535  \n1       468           334     1008  \n2      1610           251     2069  \n3      3510          2363     4852  \n4       168             9        3  \n..      ...           ...      ...  \n95      955           387     1876  \n96     3418           927     4078  \n97      268             8       38  \n98      471           168     1086  \n99     3317          2170     4694  \n\n[100 rows x 8 columns]",
      "text/html": "<div>\n<style scoped>\n    .dataframe tbody tr th:only-of-type {\n        vertical-align: middle;\n    }\n\n    .dataframe tbody tr th {\n        vertical-align: top;\n    }\n\n    .dataframe thead th {\n        text-align: right;\n    }\n</style>\n<table border=\"1\" class=\"dataframe\">\n  <thead>\n    <tr style=\"text-align: right;\">\n      <th></th>\n      <th>Date</th>\n      <th>Berri 1</th>\n      <th>Côte-Sainte-Catherine</th>\n      <th>Maisonneuve 1</th>\n      <th>Maisonneuve 2</th>\n      <th>du Parc</th>\n      <th>Pierre-Dupuy</th>\n      <th>Rachel1</th>\n    </tr>\n  </thead>\n  <tbody>\n    <tr>\n      <th>0</th>\n      <td>2012-08-07</td>\n      <td>4756</td>\n      <td>1497</td>\n      <td>2407</td>\n      <td>4495</td>\n      <td>2089</td>\n      <td>4386</td>\n      <td>5535</td>\n    </tr>\n    <tr>\n      <th>1</th>\n      <td>2012-03-17</td>\n      <td>681</td>\n      <td>287</td>\n      <td>422</td>\n      <td>872</td>\n      <td>468</td>\n      <td>334</td>\n      <td>1008</td>\n    </tr>\n    <tr>\n      <th>2</th>\n      <td>2012-05-22</td>\n      <td>2315</td>\n      <td>938</td>\n      <td>1847</td>\n      <td>2599</td>\n      <td>1610</td>\n      <td>251</td>\n      <td>2069</td>\n    </tr>\n    <tr>\n      <th>3</th>\n      <td>2012-06-20</td>\n      <td>5713</td>\n      <td>2402</td>\n      <td>3524</td>\n      <td>6848</td>\n      <td>3510</td>\n      <td>2363</td>\n      <td>4852</td>\n    </tr>\n    <tr>\n      <th>4</th>\n      <td>2012-02-28</td>\n      <td>195</td>\n      <td>0</td>\n      <td>158</td>\n      <td>350</td>\n      <td>168</td>\n      <td>9</td>\n      <td>3</td>\n    </tr>\n    <tr>\n      <th>...</th>\n      <td>...</td>\n      <td>...</td>\n      <td>...</td>\n      <td>...</td>\n      <td>...</td>\n      <td>...</td>\n      <td>...</td>\n      <td>...</td>\n    </tr>\n    <tr>\n      <th>95</th>\n      <td>2012-10-28</td>\n      <td>1310</td>\n      <td>697</td>\n      <td>910</td>\n      <td>1776</td>\n      <td>955</td>\n      <td>387</td>\n      <td>1876</td>\n    </tr>\n    <tr>\n      <th>96</th>\n      <td>2012-09-10</td>\n      <td>4787</td>\n      <td>2210</td>\n      <td>3026</td>\n      <td>5138</td>\n      <td>3418</td>\n      <td>927</td>\n      <td>4078</td>\n    </tr>\n    <tr>\n      <th>97</th>\n      <td>2012-09-03</td>\n      <td>371</td>\n      <td>8</td>\n      <td>279</td>\n      <td>575</td>\n      <td>268</td>\n      <td>8</td>\n      <td>38</td>\n    </tr>\n    <tr>\n      <th>98</th>\n      <td>2012-01-04</td>\n      <td>662</td>\n      <td>341</td>\n      <td>442</td>\n      <td>824</td>\n      <td>471</td>\n      <td>168</td>\n      <td>1086</td>\n    </tr>\n    <tr>\n      <th>99</th>\n      <td>2012-07-24</td>\n      <td>5243</td>\n      <td>2318</td>\n      <td>3465</td>\n      <td>6721</td>\n      <td>3317</td>\n      <td>2170</td>\n      <td>4694</td>\n    </tr>\n  </tbody>\n</table>\n<p>100 rows × 8 columns</p>\n</div>"
     },
     "execution_count": 51,
     "metadata": {},
     "output_type": "execute_result"
    }
   ],
   "source": [
    "import pandas as pd\n",
    "\n",
    "df = pd.read_csv('dataset_345422_14.txt', parse_dates=[0])\n",
    "df = df.dropna(axis=1)\n",
    "df\n"
   ]
  },
  {
   "cell_type": "code",
   "execution_count": 52,
   "outputs": [
    {
     "data": {
      "text/plain": "         Date  Berri 1  Côte-Sainte-Catherine  Maisonneuve 1  Maisonneuve 2  \\\n0  2012-08-07     4756                   1497           2407           4495   \n1  2012-03-17      681                    287            422            872   \n2  2012-05-22     2315                    938           1847           2599   \n3  2012-06-20     5713                   2402           3524           6848   \n4  2012-02-28      195                      0            158            350   \n..        ...      ...                    ...            ...            ...   \n95 2012-10-28     1310                    697            910           1776   \n96 2012-09-10     4787                   2210           3026           5138   \n97 2012-09-03      371                      8            279            575   \n98 2012-01-04      662                    341            442            824   \n99 2012-07-24     5243                   2318           3465           6721   \n\n    du Parc  Pierre-Dupuy  Rachel1    Weekday  \n0      2089          4386     5535    Tuesday  \n1       468           334     1008   Saturday  \n2      1610           251     2069    Tuesday  \n3      3510          2363     4852  Wednesday  \n4       168             9        3    Tuesday  \n..      ...           ...      ...        ...  \n95      955           387     1876     Sunday  \n96     3418           927     4078     Monday  \n97      268             8       38     Monday  \n98      471           168     1086  Wednesday  \n99     3317          2170     4694    Tuesday  \n\n[100 rows x 9 columns]",
      "text/html": "<div>\n<style scoped>\n    .dataframe tbody tr th:only-of-type {\n        vertical-align: middle;\n    }\n\n    .dataframe tbody tr th {\n        vertical-align: top;\n    }\n\n    .dataframe thead th {\n        text-align: right;\n    }\n</style>\n<table border=\"1\" class=\"dataframe\">\n  <thead>\n    <tr style=\"text-align: right;\">\n      <th></th>\n      <th>Date</th>\n      <th>Berri 1</th>\n      <th>Côte-Sainte-Catherine</th>\n      <th>Maisonneuve 1</th>\n      <th>Maisonneuve 2</th>\n      <th>du Parc</th>\n      <th>Pierre-Dupuy</th>\n      <th>Rachel1</th>\n      <th>Weekday</th>\n    </tr>\n  </thead>\n  <tbody>\n    <tr>\n      <th>0</th>\n      <td>2012-08-07</td>\n      <td>4756</td>\n      <td>1497</td>\n      <td>2407</td>\n      <td>4495</td>\n      <td>2089</td>\n      <td>4386</td>\n      <td>5535</td>\n      <td>Tuesday</td>\n    </tr>\n    <tr>\n      <th>1</th>\n      <td>2012-03-17</td>\n      <td>681</td>\n      <td>287</td>\n      <td>422</td>\n      <td>872</td>\n      <td>468</td>\n      <td>334</td>\n      <td>1008</td>\n      <td>Saturday</td>\n    </tr>\n    <tr>\n      <th>2</th>\n      <td>2012-05-22</td>\n      <td>2315</td>\n      <td>938</td>\n      <td>1847</td>\n      <td>2599</td>\n      <td>1610</td>\n      <td>251</td>\n      <td>2069</td>\n      <td>Tuesday</td>\n    </tr>\n    <tr>\n      <th>3</th>\n      <td>2012-06-20</td>\n      <td>5713</td>\n      <td>2402</td>\n      <td>3524</td>\n      <td>6848</td>\n      <td>3510</td>\n      <td>2363</td>\n      <td>4852</td>\n      <td>Wednesday</td>\n    </tr>\n    <tr>\n      <th>4</th>\n      <td>2012-02-28</td>\n      <td>195</td>\n      <td>0</td>\n      <td>158</td>\n      <td>350</td>\n      <td>168</td>\n      <td>9</td>\n      <td>3</td>\n      <td>Tuesday</td>\n    </tr>\n    <tr>\n      <th>...</th>\n      <td>...</td>\n      <td>...</td>\n      <td>...</td>\n      <td>...</td>\n      <td>...</td>\n      <td>...</td>\n      <td>...</td>\n      <td>...</td>\n      <td>...</td>\n    </tr>\n    <tr>\n      <th>95</th>\n      <td>2012-10-28</td>\n      <td>1310</td>\n      <td>697</td>\n      <td>910</td>\n      <td>1776</td>\n      <td>955</td>\n      <td>387</td>\n      <td>1876</td>\n      <td>Sunday</td>\n    </tr>\n    <tr>\n      <th>96</th>\n      <td>2012-09-10</td>\n      <td>4787</td>\n      <td>2210</td>\n      <td>3026</td>\n      <td>5138</td>\n      <td>3418</td>\n      <td>927</td>\n      <td>4078</td>\n      <td>Monday</td>\n    </tr>\n    <tr>\n      <th>97</th>\n      <td>2012-09-03</td>\n      <td>371</td>\n      <td>8</td>\n      <td>279</td>\n      <td>575</td>\n      <td>268</td>\n      <td>8</td>\n      <td>38</td>\n      <td>Monday</td>\n    </tr>\n    <tr>\n      <th>98</th>\n      <td>2012-01-04</td>\n      <td>662</td>\n      <td>341</td>\n      <td>442</td>\n      <td>824</td>\n      <td>471</td>\n      <td>168</td>\n      <td>1086</td>\n      <td>Wednesday</td>\n    </tr>\n    <tr>\n      <th>99</th>\n      <td>2012-07-24</td>\n      <td>5243</td>\n      <td>2318</td>\n      <td>3465</td>\n      <td>6721</td>\n      <td>3317</td>\n      <td>2170</td>\n      <td>4694</td>\n      <td>Tuesday</td>\n    </tr>\n  </tbody>\n</table>\n<p>100 rows × 9 columns</p>\n</div>"
     },
     "execution_count": 52,
     "metadata": {},
     "output_type": "execute_result"
    }
   ],
   "source": [
    "import datetime\n",
    "\n",
    "df['Weekday'] = df['Date'].map(datetime.datetime.weekday)\n",
    "days = ['Monday', 'Tuesday', 'Wednesday', 'Thursday', 'Friday', 'Saturday', 'Sunday']\n",
    "days_dict = {i: val for i, val in enumerate(days)}\n",
    "df['Weekday'] = df['Weekday'].map(days_dict)\n",
    "df"
   ],
   "metadata": {
    "collapsed": false,
    "pycharm": {
     "name": "#%%\n"
    }
   }
  },
  {
   "cell_type": "code",
   "execution_count": 53,
   "outputs": [
    {
     "data": {
      "text/plain": "               Berri 1  Côte-Sainte-Catherine  Maisonneuve 1  Maisonneuve 2  \\\nWeekday                                                                       \nFriday     2842.687500            1222.812500    1936.875000    3604.812500   \nMonday     2930.235294            1257.176471    1949.588235    3423.176471   \nSaturday   2407.461538             868.538462    1481.000000    2550.000000   \nSunday     2970.250000            1161.375000    1706.250000    3087.500000   \nThursday   3233.090909            1347.000000    2270.090909    3899.636364   \nTuesday    2663.400000            1076.000000    1775.133333    3118.066667   \nWednesday  3332.950000            1448.000000    2221.250000    3969.800000   \n\n               du Parc  Pierre-Dupuy      Rachel1  \nWeekday                                            \nFriday     1920.375000    829.250000  2687.250000  \nMonday     1949.117647    963.529412  2796.823529  \nSaturday   1310.692308   1266.153846  2614.384615  \nSunday     1722.125000   1507.625000  3050.625000  \nThursday   2082.272727   1009.818182  2992.454545  \nTuesday    1646.133333   1099.533333  2627.800000  \nWednesday  2147.200000   1070.050000  3066.650000  ",
      "text/html": "<div>\n<style scoped>\n    .dataframe tbody tr th:only-of-type {\n        vertical-align: middle;\n    }\n\n    .dataframe tbody tr th {\n        vertical-align: top;\n    }\n\n    .dataframe thead th {\n        text-align: right;\n    }\n</style>\n<table border=\"1\" class=\"dataframe\">\n  <thead>\n    <tr style=\"text-align: right;\">\n      <th></th>\n      <th>Berri 1</th>\n      <th>Côte-Sainte-Catherine</th>\n      <th>Maisonneuve 1</th>\n      <th>Maisonneuve 2</th>\n      <th>du Parc</th>\n      <th>Pierre-Dupuy</th>\n      <th>Rachel1</th>\n    </tr>\n    <tr>\n      <th>Weekday</th>\n      <th></th>\n      <th></th>\n      <th></th>\n      <th></th>\n      <th></th>\n      <th></th>\n      <th></th>\n    </tr>\n  </thead>\n  <tbody>\n    <tr>\n      <th>Friday</th>\n      <td>2842.687500</td>\n      <td>1222.812500</td>\n      <td>1936.875000</td>\n      <td>3604.812500</td>\n      <td>1920.375000</td>\n      <td>829.250000</td>\n      <td>2687.250000</td>\n    </tr>\n    <tr>\n      <th>Monday</th>\n      <td>2930.235294</td>\n      <td>1257.176471</td>\n      <td>1949.588235</td>\n      <td>3423.176471</td>\n      <td>1949.117647</td>\n      <td>963.529412</td>\n      <td>2796.823529</td>\n    </tr>\n    <tr>\n      <th>Saturday</th>\n      <td>2407.461538</td>\n      <td>868.538462</td>\n      <td>1481.000000</td>\n      <td>2550.000000</td>\n      <td>1310.692308</td>\n      <td>1266.153846</td>\n      <td>2614.384615</td>\n    </tr>\n    <tr>\n      <th>Sunday</th>\n      <td>2970.250000</td>\n      <td>1161.375000</td>\n      <td>1706.250000</td>\n      <td>3087.500000</td>\n      <td>1722.125000</td>\n      <td>1507.625000</td>\n      <td>3050.625000</td>\n    </tr>\n    <tr>\n      <th>Thursday</th>\n      <td>3233.090909</td>\n      <td>1347.000000</td>\n      <td>2270.090909</td>\n      <td>3899.636364</td>\n      <td>2082.272727</td>\n      <td>1009.818182</td>\n      <td>2992.454545</td>\n    </tr>\n    <tr>\n      <th>Tuesday</th>\n      <td>2663.400000</td>\n      <td>1076.000000</td>\n      <td>1775.133333</td>\n      <td>3118.066667</td>\n      <td>1646.133333</td>\n      <td>1099.533333</td>\n      <td>2627.800000</td>\n    </tr>\n    <tr>\n      <th>Wednesday</th>\n      <td>3332.950000</td>\n      <td>1448.000000</td>\n      <td>2221.250000</td>\n      <td>3969.800000</td>\n      <td>2147.200000</td>\n      <td>1070.050000</td>\n      <td>3066.650000</td>\n    </tr>\n  </tbody>\n</table>\n</div>"
     },
     "execution_count": 53,
     "metadata": {},
     "output_type": "execute_result"
    }
   ],
   "source": [
    "grouped = df.groupby('Weekday').mean()\n",
    "grouped = grouped.drop('Date', axis=1)\n",
    "grouped"
   ],
   "metadata": {
    "collapsed": false,
    "pycharm": {
     "name": "#%%\n"
    }
   }
  },
  {
   "cell_type": "code",
   "execution_count": 54,
   "outputs": [],
   "source": [
    "mean_in_day = grouped.mean(axis=1)"
   ],
   "metadata": {
    "collapsed": false,
    "pycharm": {
     "name": "#%%\n"
    }
   }
  },
  {
   "cell_type": "code",
   "execution_count": 56,
   "outputs": [
    {
     "data": {
      "text/plain": "'Wednesday'"
     },
     "execution_count": 56,
     "metadata": {},
     "output_type": "execute_result"
    }
   ],
   "source": [
    "mean_in_day.idxmax()"
   ],
   "metadata": {
    "collapsed": false,
    "pycharm": {
     "name": "#%%\n"
    }
   }
  },
  {
   "cell_type": "code",
   "execution_count": 55,
   "outputs": [],
   "source": [],
   "metadata": {
    "collapsed": false,
    "pycharm": {
     "name": "#%%\n"
    }
   }
  }
 ],
 "metadata": {
  "kernelspec": {
   "display_name": "Python 3",
   "language": "python",
   "name": "python3"
  },
  "language_info": {
   "codemirror_mode": {
    "name": "ipython",
    "version": 2
   },
   "file_extension": ".py",
   "mimetype": "text/x-python",
   "name": "python",
   "nbconvert_exporter": "python",
   "pygments_lexer": "ipython2",
   "version": "2.7.6"
  }
 },
 "nbformat": 4,
 "nbformat_minor": 0
}