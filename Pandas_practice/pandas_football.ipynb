{
 "cells": [
  {
   "cell_type": "code",
   "execution_count": 1,
   "metadata": {
    "collapsed": true,
    "pycharm": {
     "name": "#%%\n"
    }
   },
   "outputs": [
    {
     "data": {
      "text/plain": "       Unnamed: 0                Name  Age Nationality                 Club  \\\n0               0            L. Messi   31   Argentina         FC Barcelona   \n1               1   Cristiano Ronaldo   33    Portugal             Juventus   \n2               2           Neymar Jr   26      Brazil  Paris Saint-Germain   \n3               3              De Gea   27       Spain    Manchester United   \n4               4        K. De Bruyne   27     Belgium      Manchester City   \n...           ...                 ...  ...         ...                  ...   \n12892       13121        J. Lundstram   19     England      Crewe Alexandra   \n12893       13122  N. Christoffersson   19      Sweden       Trelleborgs FF   \n12894       13123           B. Worman   16     England     Cambridge United   \n12895       13124      D. Walker-Rice   17     England      Tranmere Rovers   \n12896       13125           G. Nugent   16     England      Tranmere Rovers   \n\n           Value    Wage Position  Crossing  Finishing  ...  Penalties  \\\n0      110500000  565000       RF        84         95  ...         75   \n1       77000000  405000       ST        84         94  ...         85   \n2      118500000  290000       LW        79         87  ...         81   \n3       72000000  260000       GK        17         13  ...         40   \n4      102000000  355000      RCM        93         82  ...         79   \n...          ...     ...      ...       ...        ...  ...        ...   \n12892    1100000    1000       CM        34         38  ...         43   \n12893      60000    1000       ST        23         52  ...         43   \n12894      60000    1000       ST        25         40  ...         55   \n12895      60000    1000       RW        44         50  ...         50   \n12896      60000    1000       CM        41         34  ...         33   \n\n       Composure  Marking  StandingTackle  SlidingTackle  GKDiving  \\\n0             96       33              28             26         6   \n1             95       28              31             23         7   \n2             94       27              24             33         9   \n3             68       15              21             13        90   \n4             88       68              58             51        15   \n...          ...      ...             ...            ...       ...   \n12892         45       40              48             47        10   \n12893         42       22              15             19        10   \n12894         41       32              13             11         6   \n12895         46       20              25             27        14   \n12896         43       40              43             50        10   \n\n       GKHandling  GKKicking  GKPositioning  GKReflexes  \n0              11         15             14           8  \n1              11         15             14          11  \n2               9         15             15          11  \n3              85         87             88          94  \n4              13          5             10          13  \n...           ...        ...            ...         ...  \n12892          13          7              8           9  \n12893           9          9              5          12  \n12894           5         10              6          13  \n12895           6         14              8           9  \n12896          15          9             12           9  \n\n[12897 rows x 42 columns]",
      "text/html": "<div>\n<style scoped>\n    .dataframe tbody tr th:only-of-type {\n        vertical-align: middle;\n    }\n\n    .dataframe tbody tr th {\n        vertical-align: top;\n    }\n\n    .dataframe thead th {\n        text-align: right;\n    }\n</style>\n<table border=\"1\" class=\"dataframe\">\n  <thead>\n    <tr style=\"text-align: right;\">\n      <th></th>\n      <th>Unnamed: 0</th>\n      <th>Name</th>\n      <th>Age</th>\n      <th>Nationality</th>\n      <th>Club</th>\n      <th>Value</th>\n      <th>Wage</th>\n      <th>Position</th>\n      <th>Crossing</th>\n      <th>Finishing</th>\n      <th>...</th>\n      <th>Penalties</th>\n      <th>Composure</th>\n      <th>Marking</th>\n      <th>StandingTackle</th>\n      <th>SlidingTackle</th>\n      <th>GKDiving</th>\n      <th>GKHandling</th>\n      <th>GKKicking</th>\n      <th>GKPositioning</th>\n      <th>GKReflexes</th>\n    </tr>\n  </thead>\n  <tbody>\n    <tr>\n      <th>0</th>\n      <td>0</td>\n      <td>L. Messi</td>\n      <td>31</td>\n      <td>Argentina</td>\n      <td>FC Barcelona</td>\n      <td>110500000</td>\n      <td>565000</td>\n      <td>RF</td>\n      <td>84</td>\n      <td>95</td>\n      <td>...</td>\n      <td>75</td>\n      <td>96</td>\n      <td>33</td>\n      <td>28</td>\n      <td>26</td>\n      <td>6</td>\n      <td>11</td>\n      <td>15</td>\n      <td>14</td>\n      <td>8</td>\n    </tr>\n    <tr>\n      <th>1</th>\n      <td>1</td>\n      <td>Cristiano Ronaldo</td>\n      <td>33</td>\n      <td>Portugal</td>\n      <td>Juventus</td>\n      <td>77000000</td>\n      <td>405000</td>\n      <td>ST</td>\n      <td>84</td>\n      <td>94</td>\n      <td>...</td>\n      <td>85</td>\n      <td>95</td>\n      <td>28</td>\n      <td>31</td>\n      <td>23</td>\n      <td>7</td>\n      <td>11</td>\n      <td>15</td>\n      <td>14</td>\n      <td>11</td>\n    </tr>\n    <tr>\n      <th>2</th>\n      <td>2</td>\n      <td>Neymar Jr</td>\n      <td>26</td>\n      <td>Brazil</td>\n      <td>Paris Saint-Germain</td>\n      <td>118500000</td>\n      <td>290000</td>\n      <td>LW</td>\n      <td>79</td>\n      <td>87</td>\n      <td>...</td>\n      <td>81</td>\n      <td>94</td>\n      <td>27</td>\n      <td>24</td>\n      <td>33</td>\n      <td>9</td>\n      <td>9</td>\n      <td>15</td>\n      <td>15</td>\n      <td>11</td>\n    </tr>\n    <tr>\n      <th>3</th>\n      <td>3</td>\n      <td>De Gea</td>\n      <td>27</td>\n      <td>Spain</td>\n      <td>Manchester United</td>\n      <td>72000000</td>\n      <td>260000</td>\n      <td>GK</td>\n      <td>17</td>\n      <td>13</td>\n      <td>...</td>\n      <td>40</td>\n      <td>68</td>\n      <td>15</td>\n      <td>21</td>\n      <td>13</td>\n      <td>90</td>\n      <td>85</td>\n      <td>87</td>\n      <td>88</td>\n      <td>94</td>\n    </tr>\n    <tr>\n      <th>4</th>\n      <td>4</td>\n      <td>K. De Bruyne</td>\n      <td>27</td>\n      <td>Belgium</td>\n      <td>Manchester City</td>\n      <td>102000000</td>\n      <td>355000</td>\n      <td>RCM</td>\n      <td>93</td>\n      <td>82</td>\n      <td>...</td>\n      <td>79</td>\n      <td>88</td>\n      <td>68</td>\n      <td>58</td>\n      <td>51</td>\n      <td>15</td>\n      <td>13</td>\n      <td>5</td>\n      <td>10</td>\n      <td>13</td>\n    </tr>\n    <tr>\n      <th>...</th>\n      <td>...</td>\n      <td>...</td>\n      <td>...</td>\n      <td>...</td>\n      <td>...</td>\n      <td>...</td>\n      <td>...</td>\n      <td>...</td>\n      <td>...</td>\n      <td>...</td>\n      <td>...</td>\n      <td>...</td>\n      <td>...</td>\n      <td>...</td>\n      <td>...</td>\n      <td>...</td>\n      <td>...</td>\n      <td>...</td>\n      <td>...</td>\n      <td>...</td>\n      <td>...</td>\n    </tr>\n    <tr>\n      <th>12892</th>\n      <td>13121</td>\n      <td>J. Lundstram</td>\n      <td>19</td>\n      <td>England</td>\n      <td>Crewe Alexandra</td>\n      <td>1100000</td>\n      <td>1000</td>\n      <td>CM</td>\n      <td>34</td>\n      <td>38</td>\n      <td>...</td>\n      <td>43</td>\n      <td>45</td>\n      <td>40</td>\n      <td>48</td>\n      <td>47</td>\n      <td>10</td>\n      <td>13</td>\n      <td>7</td>\n      <td>8</td>\n      <td>9</td>\n    </tr>\n    <tr>\n      <th>12893</th>\n      <td>13122</td>\n      <td>N. Christoffersson</td>\n      <td>19</td>\n      <td>Sweden</td>\n      <td>Trelleborgs FF</td>\n      <td>60000</td>\n      <td>1000</td>\n      <td>ST</td>\n      <td>23</td>\n      <td>52</td>\n      <td>...</td>\n      <td>43</td>\n      <td>42</td>\n      <td>22</td>\n      <td>15</td>\n      <td>19</td>\n      <td>10</td>\n      <td>9</td>\n      <td>9</td>\n      <td>5</td>\n      <td>12</td>\n    </tr>\n    <tr>\n      <th>12894</th>\n      <td>13123</td>\n      <td>B. Worman</td>\n      <td>16</td>\n      <td>England</td>\n      <td>Cambridge United</td>\n      <td>60000</td>\n      <td>1000</td>\n      <td>ST</td>\n      <td>25</td>\n      <td>40</td>\n      <td>...</td>\n      <td>55</td>\n      <td>41</td>\n      <td>32</td>\n      <td>13</td>\n      <td>11</td>\n      <td>6</td>\n      <td>5</td>\n      <td>10</td>\n      <td>6</td>\n      <td>13</td>\n    </tr>\n    <tr>\n      <th>12895</th>\n      <td>13124</td>\n      <td>D. Walker-Rice</td>\n      <td>17</td>\n      <td>England</td>\n      <td>Tranmere Rovers</td>\n      <td>60000</td>\n      <td>1000</td>\n      <td>RW</td>\n      <td>44</td>\n      <td>50</td>\n      <td>...</td>\n      <td>50</td>\n      <td>46</td>\n      <td>20</td>\n      <td>25</td>\n      <td>27</td>\n      <td>14</td>\n      <td>6</td>\n      <td>14</td>\n      <td>8</td>\n      <td>9</td>\n    </tr>\n    <tr>\n      <th>12896</th>\n      <td>13125</td>\n      <td>G. Nugent</td>\n      <td>16</td>\n      <td>England</td>\n      <td>Tranmere Rovers</td>\n      <td>60000</td>\n      <td>1000</td>\n      <td>CM</td>\n      <td>41</td>\n      <td>34</td>\n      <td>...</td>\n      <td>33</td>\n      <td>43</td>\n      <td>40</td>\n      <td>43</td>\n      <td>50</td>\n      <td>10</td>\n      <td>15</td>\n      <td>9</td>\n      <td>12</td>\n      <td>9</td>\n    </tr>\n  </tbody>\n</table>\n<p>12897 rows × 42 columns</p>\n</div>"
     },
     "execution_count": 1,
     "metadata": {},
     "output_type": "execute_result"
    }
   ],
   "source": [
    "import pandas as pd\n",
    "\n",
    "df = pd.read_csv('football_players.csv')\n",
    "df"
   ]
  },
  {
   "cell_type": "code",
   "execution_count": 25,
   "outputs": [
    {
     "data": {
      "text/plain": "                        Wage\nClub                        \n SSV Jahn Regensburg   False\n1. FC Heidenheim 1846  False\n1. FC Kaiserslautern   False\n1. FC Köln             False\n1. FC Magdeburg         True\n...                      ...\nZagłębie Sosnowiec     False\nÇaykur Rizespor        False\nÖrebro SK              False\nÖstersunds FK          False\nŚląsk Wrocław          False\n\n[650 rows x 1 columns]",
      "text/html": "<div>\n<style scoped>\n    .dataframe tbody tr th:only-of-type {\n        vertical-align: middle;\n    }\n\n    .dataframe tbody tr th {\n        vertical-align: top;\n    }\n\n    .dataframe thead th {\n        text-align: right;\n    }\n</style>\n<table border=\"1\" class=\"dataframe\">\n  <thead>\n    <tr style=\"text-align: right;\">\n      <th></th>\n      <th>Wage</th>\n    </tr>\n    <tr>\n      <th>Club</th>\n      <th></th>\n    </tr>\n  </thead>\n  <tbody>\n    <tr>\n      <th>SSV Jahn Regensburg</th>\n      <td>False</td>\n    </tr>\n    <tr>\n      <th>1. FC Heidenheim 1846</th>\n      <td>False</td>\n    </tr>\n    <tr>\n      <th>1. FC Kaiserslautern</th>\n      <td>False</td>\n    </tr>\n    <tr>\n      <th>1. FC Köln</th>\n      <td>False</td>\n    </tr>\n    <tr>\n      <th>1. FC Magdeburg</th>\n      <td>True</td>\n    </tr>\n    <tr>\n      <th>...</th>\n      <td>...</td>\n    </tr>\n    <tr>\n      <th>Zagłębie Sosnowiec</th>\n      <td>False</td>\n    </tr>\n    <tr>\n      <th>Çaykur Rizespor</th>\n      <td>False</td>\n    </tr>\n    <tr>\n      <th>Örebro SK</th>\n      <td>False</td>\n    </tr>\n    <tr>\n      <th>Östersunds FK</th>\n      <td>False</td>\n    </tr>\n    <tr>\n      <th>Śląsk Wrocław</th>\n      <td>False</td>\n    </tr>\n  </tbody>\n</table>\n<p>650 rows × 1 columns</p>\n</div>"
     },
     "execution_count": 25,
     "metadata": {},
     "output_type": "execute_result"
    }
   ],
   "source": [
    "grouped = df[['Club', 'Wage']].groupby('Club').agg(lambda var: var.mean() == var.median())\n",
    "grouped"
   ],
   "metadata": {
    "collapsed": false,
    "pycharm": {
     "name": "#%%\n"
    }
   }
  },
  {
   "cell_type": "code",
   "execution_count": 27,
   "outputs": [
    {
     "data": {
      "text/plain": "Wage    52\ndtype: int64"
     },
     "execution_count": 27,
     "metadata": {},
     "output_type": "execute_result"
    }
   ],
   "source": [
    "grouped[grouped['Wage']].count()"
   ],
   "metadata": {
    "collapsed": false,
    "pycharm": {
     "name": "#%%\n"
    }
   }
  },
  {
   "cell_type": "code",
   "execution_count": null,
   "outputs": [],
   "source": [],
   "metadata": {
    "collapsed": false,
    "pycharm": {
     "name": "#%%\n"
    }
   }
  }
 ],
 "metadata": {
  "kernelspec": {
   "display_name": "Python 3",
   "language": "python",
   "name": "python3"
  },
  "language_info": {
   "codemirror_mode": {
    "name": "ipython",
    "version": 2
   },
   "file_extension": ".py",
   "mimetype": "text/x-python",
   "name": "python",
   "nbconvert_exporter": "python",
   "pygments_lexer": "ipython2",
   "version": "2.7.6"
  }
 },
 "nbformat": 4,
 "nbformat_minor": 0
}