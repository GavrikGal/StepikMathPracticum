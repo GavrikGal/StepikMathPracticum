{
 "cells": [
  {
   "cell_type": "code",
   "execution_count": 3,
   "metadata": {
    "collapsed": true,
    "pycharm": {
     "name": "#%%\n"
    }
   },
   "outputs": [
    {
     "data": {
      "text/plain": "   Lastname Group  Mark\n0    Иванов     А     5\n1    Петров     А     4\n2   Сидоров     А     3\n3  Кузнецов     Б     5\n4     Попов     Б     4\n5   Смирнов     Б     4",
      "text/html": "<div>\n<style scoped>\n    .dataframe tbody tr th:only-of-type {\n        vertical-align: middle;\n    }\n\n    .dataframe tbody tr th {\n        vertical-align: top;\n    }\n\n    .dataframe thead th {\n        text-align: right;\n    }\n</style>\n<table border=\"1\" class=\"dataframe\">\n  <thead>\n    <tr style=\"text-align: right;\">\n      <th></th>\n      <th>Lastname</th>\n      <th>Group</th>\n      <th>Mark</th>\n    </tr>\n  </thead>\n  <tbody>\n    <tr>\n      <th>0</th>\n      <td>Иванов</td>\n      <td>А</td>\n      <td>5</td>\n    </tr>\n    <tr>\n      <th>1</th>\n      <td>Петров</td>\n      <td>А</td>\n      <td>4</td>\n    </tr>\n    <tr>\n      <th>2</th>\n      <td>Сидоров</td>\n      <td>А</td>\n      <td>3</td>\n    </tr>\n    <tr>\n      <th>3</th>\n      <td>Кузнецов</td>\n      <td>Б</td>\n      <td>5</td>\n    </tr>\n    <tr>\n      <th>4</th>\n      <td>Попов</td>\n      <td>Б</td>\n      <td>4</td>\n    </tr>\n    <tr>\n      <th>5</th>\n      <td>Смирнов</td>\n      <td>Б</td>\n      <td>4</td>\n    </tr>\n  </tbody>\n</table>\n</div>"
     },
     "execution_count": 3,
     "metadata": {},
     "output_type": "execute_result"
    }
   ],
   "source": [
    "import pandas as pd\n",
    "df = pd.read_csv('students.csv', encoding='utf8')\n",
    "df"
   ]
  },
  {
   "cell_type": "code",
   "execution_count": 2,
   "outputs": [
    {
     "data": {
      "text/plain": "           Mark\nGroup          \nА      4.000000\nБ      4.333333",
      "text/html": "<div>\n<style scoped>\n    .dataframe tbody tr th:only-of-type {\n        vertical-align: middle;\n    }\n\n    .dataframe tbody tr th {\n        vertical-align: top;\n    }\n\n    .dataframe thead th {\n        text-align: right;\n    }\n</style>\n<table border=\"1\" class=\"dataframe\">\n  <thead>\n    <tr style=\"text-align: right;\">\n      <th></th>\n      <th>Mark</th>\n    </tr>\n    <tr>\n      <th>Group</th>\n      <th></th>\n    </tr>\n  </thead>\n  <tbody>\n    <tr>\n      <th>А</th>\n      <td>4.000000</td>\n    </tr>\n    <tr>\n      <th>Б</th>\n      <td>4.333333</td>\n    </tr>\n  </tbody>\n</table>\n</div>"
     },
     "execution_count": 2,
     "metadata": {},
     "output_type": "execute_result"
    }
   ],
   "source": [
    "df[['Group', 'Mark']].groupby(['Group']).mean()"
   ],
   "metadata": {
    "collapsed": false,
    "pycharm": {
     "name": "#%%\n"
    }
   }
  },
  {
   "cell_type": "code",
   "execution_count": null,
   "outputs": [],
   "source": [],
   "metadata": {
    "collapsed": false,
    "pycharm": {
     "name": "#%%\n"
    }
   }
  }
 ],
 "metadata": {
  "kernelspec": {
   "display_name": "Python 3",
   "language": "python",
   "name": "python3"
  },
  "language_info": {
   "codemirror_mode": {
    "name": "ipython",
    "version": 2
   },
   "file_extension": ".py",
   "mimetype": "text/x-python",
   "name": "python",
   "nbconvert_exporter": "python",
   "pygments_lexer": "ipython2",
   "version": "2.7.6"
  }
 },
 "nbformat": 4,
 "nbformat_minor": 0
}