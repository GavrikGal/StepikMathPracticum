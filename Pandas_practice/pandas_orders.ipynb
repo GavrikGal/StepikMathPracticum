{
 "cells": [
  {
   "cell_type": "code",
   "execution_count": 3,
   "metadata": {
    "collapsed": true,
    "pycharm": {
     "name": "#%%\n"
    }
   },
   "outputs": [
    {
     "data": {
      "text/plain": "          Дата создания  Order ID  ID Покупателя  \\\n0   09.11.2019 21:55:51         9             10   \n1   09.11.2019 15:05:57         8              9   \n2   09.11.2019 15:05:57         8              9   \n3   09.11.2019 12:50:07         7              8   \n4   09.11.2019 12:00:00         6              1   \n5   09.11.2019 12:00:00         6              1   \n6   08.11.2019 08:36:22         5              5   \n7   08.11.2019 08:36:22         4              9   \n8   08.11.2019 08:36:22         3              8   \n9   08.11.2019 08:36:22         3              8   \n10  08.11.2019 08:36:21         2              7   \n11  08.11.2019 08:36:21         2              7   \n12  08.11.2019 08:36:21         2              7   \n13  08.11.2019 08:36:21         2              7   \n14  08.11.2019 08:36:20         1              5   \n15  08.11.2019 08:36:20         1              5   \n16  08.11.2019 08:36:20         1              5   \n17  01.01.2001 00:00:00         0              1   \n\n                             Статус Оплачен Отменен Отгружен  ID товара  \\\n0          Принят, ожидается оплата     Нет     Нет      Нет        103   \n1          Принят, ожидается оплата     Нет     Нет      Нет         86   \n2          Принят, ожидается оплата     Нет     Нет      Нет        104   \n3          Принят, ожидается оплата     Нет     Нет      Нет        104   \n4          Принят, ожидается оплата     Нет     Нет      Нет        104   \n5          Принят, ожидается оплата     Нет     Нет      Нет        103   \n6                           Отменён     Нет      Да      Нет        124   \n7          Принят, ожидается оплата     Нет     Нет       Да         91   \n8   Оплачен, формируется к отправке      Да     Нет      Нет        103   \n9   Оплачен, формируется к отправке      Да     Нет      Нет        104   \n10                         Выполнен      Да     Нет       Да         74   \n11                         Выполнен      Да     Нет       Да         53   \n12                         Выполнен      Да     Нет       Да        137   \n13                         Выполнен      Да     Нет       Да         47   \n14  Оплачен, формируется к отправке      Да     Нет      Нет         71   \n15  Оплачен, формируется к отправке      Да     Нет      Нет         86   \n16  Оплачен, формируется к отправке      Да     Нет      Нет         51   \n17  Оплачен, формируется к отправке      Да     Нет      Нет        666   \n\n    Количество  \n0            5  \n1          100  \n2           10  \n3            7  \n4            5  \n5            5  \n6            1  \n7            1  \n8            3  \n9            3  \n10           1  \n11           1  \n12           1  \n13           1  \n14           1  \n15           1  \n16           1  \n17           1  ",
      "text/html": "<div>\n<style scoped>\n    .dataframe tbody tr th:only-of-type {\n        vertical-align: middle;\n    }\n\n    .dataframe tbody tr th {\n        vertical-align: top;\n    }\n\n    .dataframe thead th {\n        text-align: right;\n    }\n</style>\n<table border=\"1\" class=\"dataframe\">\n  <thead>\n    <tr style=\"text-align: right;\">\n      <th></th>\n      <th>Дата создания</th>\n      <th>Order ID</th>\n      <th>ID Покупателя</th>\n      <th>Статус</th>\n      <th>Оплачен</th>\n      <th>Отменен</th>\n      <th>Отгружен</th>\n      <th>ID товара</th>\n      <th>Количество</th>\n    </tr>\n  </thead>\n  <tbody>\n    <tr>\n      <th>0</th>\n      <td>09.11.2019 21:55:51</td>\n      <td>9</td>\n      <td>10</td>\n      <td>Принят, ожидается оплата</td>\n      <td>Нет</td>\n      <td>Нет</td>\n      <td>Нет</td>\n      <td>103</td>\n      <td>5</td>\n    </tr>\n    <tr>\n      <th>1</th>\n      <td>09.11.2019 15:05:57</td>\n      <td>8</td>\n      <td>9</td>\n      <td>Принят, ожидается оплата</td>\n      <td>Нет</td>\n      <td>Нет</td>\n      <td>Нет</td>\n      <td>86</td>\n      <td>100</td>\n    </tr>\n    <tr>\n      <th>2</th>\n      <td>09.11.2019 15:05:57</td>\n      <td>8</td>\n      <td>9</td>\n      <td>Принят, ожидается оплата</td>\n      <td>Нет</td>\n      <td>Нет</td>\n      <td>Нет</td>\n      <td>104</td>\n      <td>10</td>\n    </tr>\n    <tr>\n      <th>3</th>\n      <td>09.11.2019 12:50:07</td>\n      <td>7</td>\n      <td>8</td>\n      <td>Принят, ожидается оплата</td>\n      <td>Нет</td>\n      <td>Нет</td>\n      <td>Нет</td>\n      <td>104</td>\n      <td>7</td>\n    </tr>\n    <tr>\n      <th>4</th>\n      <td>09.11.2019 12:00:00</td>\n      <td>6</td>\n      <td>1</td>\n      <td>Принят, ожидается оплата</td>\n      <td>Нет</td>\n      <td>Нет</td>\n      <td>Нет</td>\n      <td>104</td>\n      <td>5</td>\n    </tr>\n    <tr>\n      <th>5</th>\n      <td>09.11.2019 12:00:00</td>\n      <td>6</td>\n      <td>1</td>\n      <td>Принят, ожидается оплата</td>\n      <td>Нет</td>\n      <td>Нет</td>\n      <td>Нет</td>\n      <td>103</td>\n      <td>5</td>\n    </tr>\n    <tr>\n      <th>6</th>\n      <td>08.11.2019 08:36:22</td>\n      <td>5</td>\n      <td>5</td>\n      <td>Отменён</td>\n      <td>Нет</td>\n      <td>Да</td>\n      <td>Нет</td>\n      <td>124</td>\n      <td>1</td>\n    </tr>\n    <tr>\n      <th>7</th>\n      <td>08.11.2019 08:36:22</td>\n      <td>4</td>\n      <td>9</td>\n      <td>Принят, ожидается оплата</td>\n      <td>Нет</td>\n      <td>Нет</td>\n      <td>Да</td>\n      <td>91</td>\n      <td>1</td>\n    </tr>\n    <tr>\n      <th>8</th>\n      <td>08.11.2019 08:36:22</td>\n      <td>3</td>\n      <td>8</td>\n      <td>Оплачен, формируется к отправке</td>\n      <td>Да</td>\n      <td>Нет</td>\n      <td>Нет</td>\n      <td>103</td>\n      <td>3</td>\n    </tr>\n    <tr>\n      <th>9</th>\n      <td>08.11.2019 08:36:22</td>\n      <td>3</td>\n      <td>8</td>\n      <td>Оплачен, формируется к отправке</td>\n      <td>Да</td>\n      <td>Нет</td>\n      <td>Нет</td>\n      <td>104</td>\n      <td>3</td>\n    </tr>\n    <tr>\n      <th>10</th>\n      <td>08.11.2019 08:36:21</td>\n      <td>2</td>\n      <td>7</td>\n      <td>Выполнен</td>\n      <td>Да</td>\n      <td>Нет</td>\n      <td>Да</td>\n      <td>74</td>\n      <td>1</td>\n    </tr>\n    <tr>\n      <th>11</th>\n      <td>08.11.2019 08:36:21</td>\n      <td>2</td>\n      <td>7</td>\n      <td>Выполнен</td>\n      <td>Да</td>\n      <td>Нет</td>\n      <td>Да</td>\n      <td>53</td>\n      <td>1</td>\n    </tr>\n    <tr>\n      <th>12</th>\n      <td>08.11.2019 08:36:21</td>\n      <td>2</td>\n      <td>7</td>\n      <td>Выполнен</td>\n      <td>Да</td>\n      <td>Нет</td>\n      <td>Да</td>\n      <td>137</td>\n      <td>1</td>\n    </tr>\n    <tr>\n      <th>13</th>\n      <td>08.11.2019 08:36:21</td>\n      <td>2</td>\n      <td>7</td>\n      <td>Выполнен</td>\n      <td>Да</td>\n      <td>Нет</td>\n      <td>Да</td>\n      <td>47</td>\n      <td>1</td>\n    </tr>\n    <tr>\n      <th>14</th>\n      <td>08.11.2019 08:36:20</td>\n      <td>1</td>\n      <td>5</td>\n      <td>Оплачен, формируется к отправке</td>\n      <td>Да</td>\n      <td>Нет</td>\n      <td>Нет</td>\n      <td>71</td>\n      <td>1</td>\n    </tr>\n    <tr>\n      <th>15</th>\n      <td>08.11.2019 08:36:20</td>\n      <td>1</td>\n      <td>5</td>\n      <td>Оплачен, формируется к отправке</td>\n      <td>Да</td>\n      <td>Нет</td>\n      <td>Нет</td>\n      <td>86</td>\n      <td>1</td>\n    </tr>\n    <tr>\n      <th>16</th>\n      <td>08.11.2019 08:36:20</td>\n      <td>1</td>\n      <td>5</td>\n      <td>Оплачен, формируется к отправке</td>\n      <td>Да</td>\n      <td>Нет</td>\n      <td>Нет</td>\n      <td>51</td>\n      <td>1</td>\n    </tr>\n    <tr>\n      <th>17</th>\n      <td>01.01.2001 00:00:00</td>\n      <td>0</td>\n      <td>1</td>\n      <td>Оплачен, формируется к отправке</td>\n      <td>Да</td>\n      <td>Нет</td>\n      <td>Нет</td>\n      <td>666</td>\n      <td>1</td>\n    </tr>\n  </tbody>\n</table>\n</div>"
     },
     "execution_count": 3,
     "metadata": {},
     "output_type": "execute_result"
    }
   ],
   "source": [
    "import pandas as pd\n",
    "\n",
    "orders = pd.read_csv('orders.csv', sep=';')\n",
    "orders"
   ]
  },
  {
   "cell_type": "code",
   "execution_count": 6,
   "outputs": [
    {
     "data": {
      "text/plain": "    Product_ID                                   Name  Price CURRENCY\n0           47                   Шатны Полосатый рейс   2999      RUR\n1           51               Платье Аленький цветочек   4999      RUR\n2           53                 Штаны Цветочная Поляна   4999      RUR\n3           71                    Платье Ночная Жизнь   7999      RUR\n4           74               Платье Ночная Жизнь XXXL   8999      RUR\n5           86                     Носки Простые, муж     45      RUR\n6           91                     Носки Честные, муж     50      RUR\n7          103                  Носки Подарочные, муж    199      RUR\n8          104                  Носки Подарочные, жен    249      RUR\n9          124                   Носки беговые Camino    999      RUR\n10         137              Гольфы детские Снегурочка     99      RUR\n11         138               Гольфы детские Питер Пен     99      RUR\n12         139                       Сумка для носков    500      RUR\n13         140  Товар, которому не придумано название      1      RUR",
      "text/html": "<div>\n<style scoped>\n    .dataframe tbody tr th:only-of-type {\n        vertical-align: middle;\n    }\n\n    .dataframe tbody tr th {\n        vertical-align: top;\n    }\n\n    .dataframe thead th {\n        text-align: right;\n    }\n</style>\n<table border=\"1\" class=\"dataframe\">\n  <thead>\n    <tr style=\"text-align: right;\">\n      <th></th>\n      <th>Product_ID</th>\n      <th>Name</th>\n      <th>Price</th>\n      <th>CURRENCY</th>\n    </tr>\n  </thead>\n  <tbody>\n    <tr>\n      <th>0</th>\n      <td>47</td>\n      <td>Шатны Полосатый рейс</td>\n      <td>2999</td>\n      <td>RUR</td>\n    </tr>\n    <tr>\n      <th>1</th>\n      <td>51</td>\n      <td>Платье Аленький цветочек</td>\n      <td>4999</td>\n      <td>RUR</td>\n    </tr>\n    <tr>\n      <th>2</th>\n      <td>53</td>\n      <td>Штаны Цветочная Поляна</td>\n      <td>4999</td>\n      <td>RUR</td>\n    </tr>\n    <tr>\n      <th>3</th>\n      <td>71</td>\n      <td>Платье Ночная Жизнь</td>\n      <td>7999</td>\n      <td>RUR</td>\n    </tr>\n    <tr>\n      <th>4</th>\n      <td>74</td>\n      <td>Платье Ночная Жизнь XXXL</td>\n      <td>8999</td>\n      <td>RUR</td>\n    </tr>\n    <tr>\n      <th>5</th>\n      <td>86</td>\n      <td>Носки Простые, муж</td>\n      <td>45</td>\n      <td>RUR</td>\n    </tr>\n    <tr>\n      <th>6</th>\n      <td>91</td>\n      <td>Носки Честные, муж</td>\n      <td>50</td>\n      <td>RUR</td>\n    </tr>\n    <tr>\n      <th>7</th>\n      <td>103</td>\n      <td>Носки Подарочные, муж</td>\n      <td>199</td>\n      <td>RUR</td>\n    </tr>\n    <tr>\n      <th>8</th>\n      <td>104</td>\n      <td>Носки Подарочные, жен</td>\n      <td>249</td>\n      <td>RUR</td>\n    </tr>\n    <tr>\n      <th>9</th>\n      <td>124</td>\n      <td>Носки беговые Camino</td>\n      <td>999</td>\n      <td>RUR</td>\n    </tr>\n    <tr>\n      <th>10</th>\n      <td>137</td>\n      <td>Гольфы детские Снегурочка</td>\n      <td>99</td>\n      <td>RUR</td>\n    </tr>\n    <tr>\n      <th>11</th>\n      <td>138</td>\n      <td>Гольфы детские Питер Пен</td>\n      <td>99</td>\n      <td>RUR</td>\n    </tr>\n    <tr>\n      <th>12</th>\n      <td>139</td>\n      <td>Сумка для носков</td>\n      <td>500</td>\n      <td>RUR</td>\n    </tr>\n    <tr>\n      <th>13</th>\n      <td>140</td>\n      <td>Товар, которому не придумано название</td>\n      <td>1</td>\n      <td>RUR</td>\n    </tr>\n  </tbody>\n</table>\n</div>"
     },
     "execution_count": 6,
     "metadata": {},
     "output_type": "execute_result"
    }
   ],
   "source": [
    "products = pd.read_csv('Products.csv', sep=';')\n",
    "products"
   ],
   "metadata": {
    "collapsed": false,
    "pycharm": {
     "name": "#%%\n"
    }
   }
  },
  {
   "cell_type": "code",
   "execution_count": 9,
   "outputs": [
    {
     "data": {
      "text/plain": "          Дата создания  Order ID  ID Покупателя  \\\n0   09.11.2019 21:55:51         9             10   \n1   09.11.2019 15:05:57         8              9   \n2   09.11.2019 15:05:57         8              9   \n3   09.11.2019 12:50:07         7              8   \n4   09.11.2019 12:00:00         6              1   \n5   09.11.2019 12:00:00         6              1   \n6   08.11.2019 08:36:22         5              5   \n7   08.11.2019 08:36:22         4              9   \n8   08.11.2019 08:36:22         3              8   \n9   08.11.2019 08:36:22         3              8   \n10  08.11.2019 08:36:21         2              7   \n11  08.11.2019 08:36:21         2              7   \n12  08.11.2019 08:36:21         2              7   \n13  08.11.2019 08:36:21         2              7   \n14  08.11.2019 08:36:20         1              5   \n15  08.11.2019 08:36:20         1              5   \n16  08.11.2019 08:36:20         1              5   \n17  01.01.2001 00:00:00         0              1   \n\n                             Статус Оплачен Отменен Отгружен  ID товара  \\\n0          Принят, ожидается оплата     Нет     Нет      Нет        103   \n1          Принят, ожидается оплата     Нет     Нет      Нет         86   \n2          Принят, ожидается оплата     Нет     Нет      Нет        104   \n3          Принят, ожидается оплата     Нет     Нет      Нет        104   \n4          Принят, ожидается оплата     Нет     Нет      Нет        104   \n5          Принят, ожидается оплата     Нет     Нет      Нет        103   \n6                           Отменён     Нет      Да      Нет        124   \n7          Принят, ожидается оплата     Нет     Нет       Да         91   \n8   Оплачен, формируется к отправке      Да     Нет      Нет        103   \n9   Оплачен, формируется к отправке      Да     Нет      Нет        104   \n10                         Выполнен      Да     Нет       Да         74   \n11                         Выполнен      Да     Нет       Да         53   \n12                         Выполнен      Да     Нет       Да        137   \n13                         Выполнен      Да     Нет       Да         47   \n14  Оплачен, формируется к отправке      Да     Нет      Нет         71   \n15  Оплачен, формируется к отправке      Да     Нет      Нет         86   \n16  Оплачен, формируется к отправке      Да     Нет      Нет         51   \n17  Оплачен, формируется к отправке      Да     Нет      Нет        666   \n\n    Количество  Product_ID                       Name   Price CURRENCY  \n0            5       103.0      Носки Подарочные, муж   199.0      RUR  \n1          100        86.0         Носки Простые, муж    45.0      RUR  \n2           10       104.0      Носки Подарочные, жен   249.0      RUR  \n3            7       104.0      Носки Подарочные, жен   249.0      RUR  \n4            5       104.0      Носки Подарочные, жен   249.0      RUR  \n5            5       103.0      Носки Подарочные, муж   199.0      RUR  \n6            1       124.0       Носки беговые Camino   999.0      RUR  \n7            1        91.0         Носки Честные, муж    50.0      RUR  \n8            3       103.0      Носки Подарочные, муж   199.0      RUR  \n9            3       104.0      Носки Подарочные, жен   249.0      RUR  \n10           1        74.0   Платье Ночная Жизнь XXXL  8999.0      RUR  \n11           1        53.0     Штаны Цветочная Поляна  4999.0      RUR  \n12           1       137.0  Гольфы детские Снегурочка    99.0      RUR  \n13           1        47.0       Шатны Полосатый рейс  2999.0      RUR  \n14           1        71.0        Платье Ночная Жизнь  7999.0      RUR  \n15           1        86.0         Носки Простые, муж    45.0      RUR  \n16           1        51.0   Платье Аленький цветочек  4999.0      RUR  \n17           1         NaN                        NaN     NaN      NaN  ",
      "text/html": "<div>\n<style scoped>\n    .dataframe tbody tr th:only-of-type {\n        vertical-align: middle;\n    }\n\n    .dataframe tbody tr th {\n        vertical-align: top;\n    }\n\n    .dataframe thead th {\n        text-align: right;\n    }\n</style>\n<table border=\"1\" class=\"dataframe\">\n  <thead>\n    <tr style=\"text-align: right;\">\n      <th></th>\n      <th>Дата создания</th>\n      <th>Order ID</th>\n      <th>ID Покупателя</th>\n      <th>Статус</th>\n      <th>Оплачен</th>\n      <th>Отменен</th>\n      <th>Отгружен</th>\n      <th>ID товара</th>\n      <th>Количество</th>\n      <th>Product_ID</th>\n      <th>Name</th>\n      <th>Price</th>\n      <th>CURRENCY</th>\n    </tr>\n  </thead>\n  <tbody>\n    <tr>\n      <th>0</th>\n      <td>09.11.2019 21:55:51</td>\n      <td>9</td>\n      <td>10</td>\n      <td>Принят, ожидается оплата</td>\n      <td>Нет</td>\n      <td>Нет</td>\n      <td>Нет</td>\n      <td>103</td>\n      <td>5</td>\n      <td>103.0</td>\n      <td>Носки Подарочные, муж</td>\n      <td>199.0</td>\n      <td>RUR</td>\n    </tr>\n    <tr>\n      <th>1</th>\n      <td>09.11.2019 15:05:57</td>\n      <td>8</td>\n      <td>9</td>\n      <td>Принят, ожидается оплата</td>\n      <td>Нет</td>\n      <td>Нет</td>\n      <td>Нет</td>\n      <td>86</td>\n      <td>100</td>\n      <td>86.0</td>\n      <td>Носки Простые, муж</td>\n      <td>45.0</td>\n      <td>RUR</td>\n    </tr>\n    <tr>\n      <th>2</th>\n      <td>09.11.2019 15:05:57</td>\n      <td>8</td>\n      <td>9</td>\n      <td>Принят, ожидается оплата</td>\n      <td>Нет</td>\n      <td>Нет</td>\n      <td>Нет</td>\n      <td>104</td>\n      <td>10</td>\n      <td>104.0</td>\n      <td>Носки Подарочные, жен</td>\n      <td>249.0</td>\n      <td>RUR</td>\n    </tr>\n    <tr>\n      <th>3</th>\n      <td>09.11.2019 12:50:07</td>\n      <td>7</td>\n      <td>8</td>\n      <td>Принят, ожидается оплата</td>\n      <td>Нет</td>\n      <td>Нет</td>\n      <td>Нет</td>\n      <td>104</td>\n      <td>7</td>\n      <td>104.0</td>\n      <td>Носки Подарочные, жен</td>\n      <td>249.0</td>\n      <td>RUR</td>\n    </tr>\n    <tr>\n      <th>4</th>\n      <td>09.11.2019 12:00:00</td>\n      <td>6</td>\n      <td>1</td>\n      <td>Принят, ожидается оплата</td>\n      <td>Нет</td>\n      <td>Нет</td>\n      <td>Нет</td>\n      <td>104</td>\n      <td>5</td>\n      <td>104.0</td>\n      <td>Носки Подарочные, жен</td>\n      <td>249.0</td>\n      <td>RUR</td>\n    </tr>\n    <tr>\n      <th>5</th>\n      <td>09.11.2019 12:00:00</td>\n      <td>6</td>\n      <td>1</td>\n      <td>Принят, ожидается оплата</td>\n      <td>Нет</td>\n      <td>Нет</td>\n      <td>Нет</td>\n      <td>103</td>\n      <td>5</td>\n      <td>103.0</td>\n      <td>Носки Подарочные, муж</td>\n      <td>199.0</td>\n      <td>RUR</td>\n    </tr>\n    <tr>\n      <th>6</th>\n      <td>08.11.2019 08:36:22</td>\n      <td>5</td>\n      <td>5</td>\n      <td>Отменён</td>\n      <td>Нет</td>\n      <td>Да</td>\n      <td>Нет</td>\n      <td>124</td>\n      <td>1</td>\n      <td>124.0</td>\n      <td>Носки беговые Camino</td>\n      <td>999.0</td>\n      <td>RUR</td>\n    </tr>\n    <tr>\n      <th>7</th>\n      <td>08.11.2019 08:36:22</td>\n      <td>4</td>\n      <td>9</td>\n      <td>Принят, ожидается оплата</td>\n      <td>Нет</td>\n      <td>Нет</td>\n      <td>Да</td>\n      <td>91</td>\n      <td>1</td>\n      <td>91.0</td>\n      <td>Носки Честные, муж</td>\n      <td>50.0</td>\n      <td>RUR</td>\n    </tr>\n    <tr>\n      <th>8</th>\n      <td>08.11.2019 08:36:22</td>\n      <td>3</td>\n      <td>8</td>\n      <td>Оплачен, формируется к отправке</td>\n      <td>Да</td>\n      <td>Нет</td>\n      <td>Нет</td>\n      <td>103</td>\n      <td>3</td>\n      <td>103.0</td>\n      <td>Носки Подарочные, муж</td>\n      <td>199.0</td>\n      <td>RUR</td>\n    </tr>\n    <tr>\n      <th>9</th>\n      <td>08.11.2019 08:36:22</td>\n      <td>3</td>\n      <td>8</td>\n      <td>Оплачен, формируется к отправке</td>\n      <td>Да</td>\n      <td>Нет</td>\n      <td>Нет</td>\n      <td>104</td>\n      <td>3</td>\n      <td>104.0</td>\n      <td>Носки Подарочные, жен</td>\n      <td>249.0</td>\n      <td>RUR</td>\n    </tr>\n    <tr>\n      <th>10</th>\n      <td>08.11.2019 08:36:21</td>\n      <td>2</td>\n      <td>7</td>\n      <td>Выполнен</td>\n      <td>Да</td>\n      <td>Нет</td>\n      <td>Да</td>\n      <td>74</td>\n      <td>1</td>\n      <td>74.0</td>\n      <td>Платье Ночная Жизнь XXXL</td>\n      <td>8999.0</td>\n      <td>RUR</td>\n    </tr>\n    <tr>\n      <th>11</th>\n      <td>08.11.2019 08:36:21</td>\n      <td>2</td>\n      <td>7</td>\n      <td>Выполнен</td>\n      <td>Да</td>\n      <td>Нет</td>\n      <td>Да</td>\n      <td>53</td>\n      <td>1</td>\n      <td>53.0</td>\n      <td>Штаны Цветочная Поляна</td>\n      <td>4999.0</td>\n      <td>RUR</td>\n    </tr>\n    <tr>\n      <th>12</th>\n      <td>08.11.2019 08:36:21</td>\n      <td>2</td>\n      <td>7</td>\n      <td>Выполнен</td>\n      <td>Да</td>\n      <td>Нет</td>\n      <td>Да</td>\n      <td>137</td>\n      <td>1</td>\n      <td>137.0</td>\n      <td>Гольфы детские Снегурочка</td>\n      <td>99.0</td>\n      <td>RUR</td>\n    </tr>\n    <tr>\n      <th>13</th>\n      <td>08.11.2019 08:36:21</td>\n      <td>2</td>\n      <td>7</td>\n      <td>Выполнен</td>\n      <td>Да</td>\n      <td>Нет</td>\n      <td>Да</td>\n      <td>47</td>\n      <td>1</td>\n      <td>47.0</td>\n      <td>Шатны Полосатый рейс</td>\n      <td>2999.0</td>\n      <td>RUR</td>\n    </tr>\n    <tr>\n      <th>14</th>\n      <td>08.11.2019 08:36:20</td>\n      <td>1</td>\n      <td>5</td>\n      <td>Оплачен, формируется к отправке</td>\n      <td>Да</td>\n      <td>Нет</td>\n      <td>Нет</td>\n      <td>71</td>\n      <td>1</td>\n      <td>71.0</td>\n      <td>Платье Ночная Жизнь</td>\n      <td>7999.0</td>\n      <td>RUR</td>\n    </tr>\n    <tr>\n      <th>15</th>\n      <td>08.11.2019 08:36:20</td>\n      <td>1</td>\n      <td>5</td>\n      <td>Оплачен, формируется к отправке</td>\n      <td>Да</td>\n      <td>Нет</td>\n      <td>Нет</td>\n      <td>86</td>\n      <td>1</td>\n      <td>86.0</td>\n      <td>Носки Простые, муж</td>\n      <td>45.0</td>\n      <td>RUR</td>\n    </tr>\n    <tr>\n      <th>16</th>\n      <td>08.11.2019 08:36:20</td>\n      <td>1</td>\n      <td>5</td>\n      <td>Оплачен, формируется к отправке</td>\n      <td>Да</td>\n      <td>Нет</td>\n      <td>Нет</td>\n      <td>51</td>\n      <td>1</td>\n      <td>51.0</td>\n      <td>Платье Аленький цветочек</td>\n      <td>4999.0</td>\n      <td>RUR</td>\n    </tr>\n    <tr>\n      <th>17</th>\n      <td>01.01.2001 00:00:00</td>\n      <td>0</td>\n      <td>1</td>\n      <td>Оплачен, формируется к отправке</td>\n      <td>Да</td>\n      <td>Нет</td>\n      <td>Нет</td>\n      <td>666</td>\n      <td>1</td>\n      <td>NaN</td>\n      <td>NaN</td>\n      <td>NaN</td>\n      <td>NaN</td>\n    </tr>\n  </tbody>\n</table>\n</div>"
     },
     "execution_count": 9,
     "metadata": {},
     "output_type": "execute_result"
    }
   ],
   "source": [
    "df = pd.merge(orders, products, left_on='ID товара', right_on='Product_ID', how='left')\n",
    "df"
   ],
   "metadata": {
    "collapsed": false,
    "pycharm": {
     "name": "#%%\n"
    }
   }
  },
  {
   "cell_type": "code",
   "execution_count": 37,
   "outputs": [],
   "source": [
    "df['cost'] = df['Price'] * df['Количество']\n",
    "df = df[df['Оплачен'] == 'Да']"
   ],
   "metadata": {
    "collapsed": false,
    "pycharm": {
     "name": "#%%\n"
    }
   }
  },
  {
   "cell_type": "code",
   "execution_count": 38,
   "outputs": [
    {
     "data": {
      "text/plain": "                        Name    cost\n0  Гольфы детские Снегурочка    99.0\n1      Носки Подарочные, жен   747.0\n2      Носки Подарочные, муж   597.0\n3         Носки Простые, муж    45.0\n4   Платье Аленький цветочек  4999.0\n5        Платье Ночная Жизнь  7999.0\n6   Платье Ночная Жизнь XXXL  8999.0\n7       Шатны Полосатый рейс  2999.0\n8     Штаны Цветочная Поляна  4999.0",
      "text/html": "<div>\n<style scoped>\n    .dataframe tbody tr th:only-of-type {\n        vertical-align: middle;\n    }\n\n    .dataframe tbody tr th {\n        vertical-align: top;\n    }\n\n    .dataframe thead th {\n        text-align: right;\n    }\n</style>\n<table border=\"1\" class=\"dataframe\">\n  <thead>\n    <tr style=\"text-align: right;\">\n      <th></th>\n      <th>Name</th>\n      <th>cost</th>\n    </tr>\n  </thead>\n  <tbody>\n    <tr>\n      <th>0</th>\n      <td>Гольфы детские Снегурочка</td>\n      <td>99.0</td>\n    </tr>\n    <tr>\n      <th>1</th>\n      <td>Носки Подарочные, жен</td>\n      <td>747.0</td>\n    </tr>\n    <tr>\n      <th>2</th>\n      <td>Носки Подарочные, муж</td>\n      <td>597.0</td>\n    </tr>\n    <tr>\n      <th>3</th>\n      <td>Носки Простые, муж</td>\n      <td>45.0</td>\n    </tr>\n    <tr>\n      <th>4</th>\n      <td>Платье Аленький цветочек</td>\n      <td>4999.0</td>\n    </tr>\n    <tr>\n      <th>5</th>\n      <td>Платье Ночная Жизнь</td>\n      <td>7999.0</td>\n    </tr>\n    <tr>\n      <th>6</th>\n      <td>Платье Ночная Жизнь XXXL</td>\n      <td>8999.0</td>\n    </tr>\n    <tr>\n      <th>7</th>\n      <td>Шатны Полосатый рейс</td>\n      <td>2999.0</td>\n    </tr>\n    <tr>\n      <th>8</th>\n      <td>Штаны Цветочная Поляна</td>\n      <td>4999.0</td>\n    </tr>\n  </tbody>\n</table>\n</div>"
     },
     "execution_count": 38,
     "metadata": {},
     "output_type": "execute_result"
    }
   ],
   "source": [
    "grouped = df[['Name', 'cost']].groupby('Name', as_index=False).sum()\n",
    "grouped"
   ],
   "metadata": {
    "collapsed": false,
    "pycharm": {
     "name": "#%%\n"
    }
   }
  },
  {
   "cell_type": "code",
   "execution_count": 39,
   "outputs": [
    {
     "data": {
      "text/plain": "                    Name   cost\n1  Носки Подарочные, жен  747.0\n2  Носки Подарочные, муж  597.0\n3     Носки Простые, муж   45.0",
      "text/html": "<div>\n<style scoped>\n    .dataframe tbody tr th:only-of-type {\n        vertical-align: middle;\n    }\n\n    .dataframe tbody tr th {\n        vertical-align: top;\n    }\n\n    .dataframe thead th {\n        text-align: right;\n    }\n</style>\n<table border=\"1\" class=\"dataframe\">\n  <thead>\n    <tr style=\"text-align: right;\">\n      <th></th>\n      <th>Name</th>\n      <th>cost</th>\n    </tr>\n  </thead>\n  <tbody>\n    <tr>\n      <th>1</th>\n      <td>Носки Подарочные, жен</td>\n      <td>747.0</td>\n    </tr>\n    <tr>\n      <th>2</th>\n      <td>Носки Подарочные, муж</td>\n      <td>597.0</td>\n    </tr>\n    <tr>\n      <th>3</th>\n      <td>Носки Простые, муж</td>\n      <td>45.0</td>\n    </tr>\n  </tbody>\n</table>\n</div>"
     },
     "execution_count": 39,
     "metadata": {},
     "output_type": "execute_result"
    }
   ],
   "source": [
    "socks = grouped[grouped['Name'].str.contains('Носки')]\n",
    "socks"
   ],
   "metadata": {
    "collapsed": false,
    "pycharm": {
     "name": "#%%\n"
    }
   }
  },
  {
   "cell_type": "code",
   "execution_count": 40,
   "outputs": [
    {
     "data": {
      "text/plain": "1389.0"
     },
     "execution_count": 40,
     "metadata": {},
     "output_type": "execute_result"
    }
   ],
   "source": [
    "socks['cost'].sum()"
   ],
   "metadata": {
    "collapsed": false,
    "pycharm": {
     "name": "#%%\n"
    }
   }
  },
  {
   "cell_type": "code",
   "execution_count": null,
   "outputs": [],
   "source": [],
   "metadata": {
    "collapsed": false,
    "pycharm": {
     "name": "#%%\n"
    }
   }
  }
 ],
 "metadata": {
  "kernelspec": {
   "display_name": "Python 3",
   "language": "python",
   "name": "python3"
  },
  "language_info": {
   "codemirror_mode": {
    "name": "ipython",
    "version": 2
   },
   "file_extension": ".py",
   "mimetype": "text/x-python",
   "name": "python",
   "nbconvert_exporter": "python",
   "pygments_lexer": "ipython2",
   "version": "2.7.6"
  }
 },
 "nbformat": 4,
 "nbformat_minor": 0
}