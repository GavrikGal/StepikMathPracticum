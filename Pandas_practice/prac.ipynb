{
 "cells": [
  {
   "cell_type": "code",
   "execution_count": 21,
   "metadata": {
    "collapsed": true,
    "pycharm": {
     "name": "#%%\n"
    }
   },
   "outputs": [
    {
     "data": {
      "text/plain": "     IE_XML_ID                           IE_NAME IP_PROP30  IP_PROP31  \\\n0          188              Штаны Полосатый Рейс     green        NaN   \n1          316       Нижнее белье Интимный Вечер     black        NaN   \n2          244            Штаны Цветочная Поляна       red        NaN   \n3          470      Домашние Тапочки Розовый Рай      pink       37.0   \n4          463  Спортивный Костюм Вечерний Спорт     white        NaN   \n..         ...                               ...       ...        ...   \n195        236            Штаны Цветочная Поляна     white        NaN   \n196        540                 Туфли Ультра Лайн       red       38.0   \n197        642                Ремень Грубая Кожа     brown        NaN   \n198        312       Нижнее белье Интимный Вечер     white        NaN   \n199        198              Штаны Полосатый Рейс     brown        NaN   \n\n    IP_PROP32  CP_QUANTITY  CR_PRICE_1_USD  \n0          XL          100           29.06  \n1           L          100           17.43  \n2           S          100           31.97  \n3         NaN          100           17.43  \n4           S          100           39.24  \n..        ...          ...             ...  \n195         M          100           31.97  \n196       NaN          100           40.69  \n197        XS          100           10.39  \n198        XS          100           15.98  \n199         S          100           29.06  \n\n[200 rows x 7 columns]",
      "text/html": "<div>\n<style scoped>\n    .dataframe tbody tr th:only-of-type {\n        vertical-align: middle;\n    }\n\n    .dataframe tbody tr th {\n        vertical-align: top;\n    }\n\n    .dataframe thead th {\n        text-align: right;\n    }\n</style>\n<table border=\"1\" class=\"dataframe\">\n  <thead>\n    <tr style=\"text-align: right;\">\n      <th></th>\n      <th>IE_XML_ID</th>\n      <th>IE_NAME</th>\n      <th>IP_PROP30</th>\n      <th>IP_PROP31</th>\n      <th>IP_PROP32</th>\n      <th>CP_QUANTITY</th>\n      <th>CR_PRICE_1_USD</th>\n    </tr>\n  </thead>\n  <tbody>\n    <tr>\n      <th>0</th>\n      <td>188</td>\n      <td>Штаны Полосатый Рейс</td>\n      <td>green</td>\n      <td>NaN</td>\n      <td>XL</td>\n      <td>100</td>\n      <td>29.06</td>\n    </tr>\n    <tr>\n      <th>1</th>\n      <td>316</td>\n      <td>Нижнее белье Интимный Вечер</td>\n      <td>black</td>\n      <td>NaN</td>\n      <td>L</td>\n      <td>100</td>\n      <td>17.43</td>\n    </tr>\n    <tr>\n      <th>2</th>\n      <td>244</td>\n      <td>Штаны Цветочная Поляна</td>\n      <td>red</td>\n      <td>NaN</td>\n      <td>S</td>\n      <td>100</td>\n      <td>31.97</td>\n    </tr>\n    <tr>\n      <th>3</th>\n      <td>470</td>\n      <td>Домашние Тапочки Розовый Рай</td>\n      <td>pink</td>\n      <td>37.0</td>\n      <td>NaN</td>\n      <td>100</td>\n      <td>17.43</td>\n    </tr>\n    <tr>\n      <th>4</th>\n      <td>463</td>\n      <td>Спортивный Костюм Вечерний Спорт</td>\n      <td>white</td>\n      <td>NaN</td>\n      <td>S</td>\n      <td>100</td>\n      <td>39.24</td>\n    </tr>\n    <tr>\n      <th>...</th>\n      <td>...</td>\n      <td>...</td>\n      <td>...</td>\n      <td>...</td>\n      <td>...</td>\n      <td>...</td>\n      <td>...</td>\n    </tr>\n    <tr>\n      <th>195</th>\n      <td>236</td>\n      <td>Штаны Цветочная Поляна</td>\n      <td>white</td>\n      <td>NaN</td>\n      <td>M</td>\n      <td>100</td>\n      <td>31.97</td>\n    </tr>\n    <tr>\n      <th>196</th>\n      <td>540</td>\n      <td>Туфли Ультра Лайн</td>\n      <td>red</td>\n      <td>38.0</td>\n      <td>NaN</td>\n      <td>100</td>\n      <td>40.69</td>\n    </tr>\n    <tr>\n      <th>197</th>\n      <td>642</td>\n      <td>Ремень Грубая Кожа</td>\n      <td>brown</td>\n      <td>NaN</td>\n      <td>XS</td>\n      <td>100</td>\n      <td>10.39</td>\n    </tr>\n    <tr>\n      <th>198</th>\n      <td>312</td>\n      <td>Нижнее белье Интимный Вечер</td>\n      <td>white</td>\n      <td>NaN</td>\n      <td>XS</td>\n      <td>100</td>\n      <td>15.98</td>\n    </tr>\n    <tr>\n      <th>199</th>\n      <td>198</td>\n      <td>Штаны Полосатый Рейс</td>\n      <td>brown</td>\n      <td>NaN</td>\n      <td>S</td>\n      <td>100</td>\n      <td>29.06</td>\n    </tr>\n  </tbody>\n</table>\n<p>200 rows × 7 columns</p>\n</div>"
     },
     "execution_count": 21,
     "metadata": {},
     "output_type": "execute_result"
    }
   ],
   "source": [
    "import pandas as pd\n",
    "\n",
    "df = pd.read_csv('dataset_345422_8.txt', sep=';')\n",
    "df"
   ]
  },
  {
   "cell_type": "code",
   "execution_count": 22,
   "outputs": [],
   "source": [
    "df['total_price'] = df['CP_QUANTITY'] * df['CR_PRICE_1_USD']"
   ],
   "metadata": {
    "collapsed": false,
    "pycharm": {
     "name": "#%%\n"
    }
   }
  },
  {
   "cell_type": "code",
   "execution_count": 23,
   "outputs": [
    {
     "data": {
      "text/plain": "    IP_PROP30 IP_PROP32  total_price\n0       green        XL       2906.0\n1       black         L       1743.0\n2         red         S       3197.0\n3        pink       NaN       1743.0\n4       white         S       3924.0\n..        ...       ...          ...\n195     white         M       3197.0\n196       red       NaN       4069.0\n197     brown        XS       1039.0\n198     white        XS       1598.0\n199     brown         S       2906.0\n\n[200 rows x 3 columns]",
      "text/html": "<div>\n<style scoped>\n    .dataframe tbody tr th:only-of-type {\n        vertical-align: middle;\n    }\n\n    .dataframe tbody tr th {\n        vertical-align: top;\n    }\n\n    .dataframe thead th {\n        text-align: right;\n    }\n</style>\n<table border=\"1\" class=\"dataframe\">\n  <thead>\n    <tr style=\"text-align: right;\">\n      <th></th>\n      <th>IP_PROP30</th>\n      <th>IP_PROP32</th>\n      <th>total_price</th>\n    </tr>\n  </thead>\n  <tbody>\n    <tr>\n      <th>0</th>\n      <td>green</td>\n      <td>XL</td>\n      <td>2906.0</td>\n    </tr>\n    <tr>\n      <th>1</th>\n      <td>black</td>\n      <td>L</td>\n      <td>1743.0</td>\n    </tr>\n    <tr>\n      <th>2</th>\n      <td>red</td>\n      <td>S</td>\n      <td>3197.0</td>\n    </tr>\n    <tr>\n      <th>3</th>\n      <td>pink</td>\n      <td>NaN</td>\n      <td>1743.0</td>\n    </tr>\n    <tr>\n      <th>4</th>\n      <td>white</td>\n      <td>S</td>\n      <td>3924.0</td>\n    </tr>\n    <tr>\n      <th>...</th>\n      <td>...</td>\n      <td>...</td>\n      <td>...</td>\n    </tr>\n    <tr>\n      <th>195</th>\n      <td>white</td>\n      <td>M</td>\n      <td>3197.0</td>\n    </tr>\n    <tr>\n      <th>196</th>\n      <td>red</td>\n      <td>NaN</td>\n      <td>4069.0</td>\n    </tr>\n    <tr>\n      <th>197</th>\n      <td>brown</td>\n      <td>XS</td>\n      <td>1039.0</td>\n    </tr>\n    <tr>\n      <th>198</th>\n      <td>white</td>\n      <td>XS</td>\n      <td>1598.0</td>\n    </tr>\n    <tr>\n      <th>199</th>\n      <td>brown</td>\n      <td>S</td>\n      <td>2906.0</td>\n    </tr>\n  </tbody>\n</table>\n<p>200 rows × 3 columns</p>\n</div>"
     },
     "execution_count": 23,
     "metadata": {},
     "output_type": "execute_result"
    }
   ],
   "source": [
    "df2 = df[['IP_PROP30', 'IP_PROP32', 'total_price']]\n",
    "df2"
   ],
   "metadata": {
    "collapsed": false,
    "pycharm": {
     "name": "#%%\n"
    }
   }
  },
  {
   "cell_type": "code",
   "execution_count": 24,
   "outputs": [
    {
     "data": {
      "text/plain": "                     total_price\nIP_PROP30 IP_PROP32             \nazure     L              3387.00\n          M              3387.00\n          S              3387.00\nblack     L             18453.00\n          M             19881.00\n          S             20212.00\n          XL            12323.00\n          XS            21084.00\nblue      L             10173.00\n          M                 0.00\n          S              3473.00\n          XL            10740.00\n          XS             7267.00\nbrown     L              6735.00\n          M              6735.00\n          S              5573.00\n          XL             6735.00\n          XS             5674.00\ngreen     L              6670.00\n          M              6640.94\n          S              3473.00\n          XL             6670.00\n          XS             6670.00\norangered M              2761.00\n          S              2733.39\n          XL             2761.00\n          XS             2733.39\npink      L              3736.00\n          M              6046.00\n          S              2310.00\n          XL             3736.00\n          XS              567.00\npurple    L             11000.94\n          M              2906.00\n          S              6670.00\n          XL             7833.00\n          XS             2906.00\nred       L              5419.00\n          M             11173.87\n          S              5419.00\n          XL             8035.00\n          XS             8035.00\nredblue   M              2761.00\n          S              2761.00\n          XS             2761.00\nsee       L              2455.00\n          M              2455.00\n          S              2455.00\n          XL             1888.00\n          XS             2455.00\nwhite     L             14864.00\n          M              9225.00\n          S             18061.00\n          XL            10941.00\n          XS            13004.00",
      "text/html": "<div>\n<style scoped>\n    .dataframe tbody tr th:only-of-type {\n        vertical-align: middle;\n    }\n\n    .dataframe tbody tr th {\n        vertical-align: top;\n    }\n\n    .dataframe thead th {\n        text-align: right;\n    }\n</style>\n<table border=\"1\" class=\"dataframe\">\n  <thead>\n    <tr style=\"text-align: right;\">\n      <th></th>\n      <th></th>\n      <th>total_price</th>\n    </tr>\n    <tr>\n      <th>IP_PROP30</th>\n      <th>IP_PROP32</th>\n      <th></th>\n    </tr>\n  </thead>\n  <tbody>\n    <tr>\n      <th rowspan=\"3\" valign=\"top\">azure</th>\n      <th>L</th>\n      <td>3387.00</td>\n    </tr>\n    <tr>\n      <th>M</th>\n      <td>3387.00</td>\n    </tr>\n    <tr>\n      <th>S</th>\n      <td>3387.00</td>\n    </tr>\n    <tr>\n      <th rowspan=\"5\" valign=\"top\">black</th>\n      <th>L</th>\n      <td>18453.00</td>\n    </tr>\n    <tr>\n      <th>M</th>\n      <td>19881.00</td>\n    </tr>\n    <tr>\n      <th>S</th>\n      <td>20212.00</td>\n    </tr>\n    <tr>\n      <th>XL</th>\n      <td>12323.00</td>\n    </tr>\n    <tr>\n      <th>XS</th>\n      <td>21084.00</td>\n    </tr>\n    <tr>\n      <th rowspan=\"5\" valign=\"top\">blue</th>\n      <th>L</th>\n      <td>10173.00</td>\n    </tr>\n    <tr>\n      <th>M</th>\n      <td>0.00</td>\n    </tr>\n    <tr>\n      <th>S</th>\n      <td>3473.00</td>\n    </tr>\n    <tr>\n      <th>XL</th>\n      <td>10740.00</td>\n    </tr>\n    <tr>\n      <th>XS</th>\n      <td>7267.00</td>\n    </tr>\n    <tr>\n      <th rowspan=\"5\" valign=\"top\">brown</th>\n      <th>L</th>\n      <td>6735.00</td>\n    </tr>\n    <tr>\n      <th>M</th>\n      <td>6735.00</td>\n    </tr>\n    <tr>\n      <th>S</th>\n      <td>5573.00</td>\n    </tr>\n    <tr>\n      <th>XL</th>\n      <td>6735.00</td>\n    </tr>\n    <tr>\n      <th>XS</th>\n      <td>5674.00</td>\n    </tr>\n    <tr>\n      <th rowspan=\"5\" valign=\"top\">green</th>\n      <th>L</th>\n      <td>6670.00</td>\n    </tr>\n    <tr>\n      <th>M</th>\n      <td>6640.94</td>\n    </tr>\n    <tr>\n      <th>S</th>\n      <td>3473.00</td>\n    </tr>\n    <tr>\n      <th>XL</th>\n      <td>6670.00</td>\n    </tr>\n    <tr>\n      <th>XS</th>\n      <td>6670.00</td>\n    </tr>\n    <tr>\n      <th rowspan=\"4\" valign=\"top\">orangered</th>\n      <th>M</th>\n      <td>2761.00</td>\n    </tr>\n    <tr>\n      <th>S</th>\n      <td>2733.39</td>\n    </tr>\n    <tr>\n      <th>XL</th>\n      <td>2761.00</td>\n    </tr>\n    <tr>\n      <th>XS</th>\n      <td>2733.39</td>\n    </tr>\n    <tr>\n      <th rowspan=\"5\" valign=\"top\">pink</th>\n      <th>L</th>\n      <td>3736.00</td>\n    </tr>\n    <tr>\n      <th>M</th>\n      <td>6046.00</td>\n    </tr>\n    <tr>\n      <th>S</th>\n      <td>2310.00</td>\n    </tr>\n    <tr>\n      <th>XL</th>\n      <td>3736.00</td>\n    </tr>\n    <tr>\n      <th>XS</th>\n      <td>567.00</td>\n    </tr>\n    <tr>\n      <th rowspan=\"5\" valign=\"top\">purple</th>\n      <th>L</th>\n      <td>11000.94</td>\n    </tr>\n    <tr>\n      <th>M</th>\n      <td>2906.00</td>\n    </tr>\n    <tr>\n      <th>S</th>\n      <td>6670.00</td>\n    </tr>\n    <tr>\n      <th>XL</th>\n      <td>7833.00</td>\n    </tr>\n    <tr>\n      <th>XS</th>\n      <td>2906.00</td>\n    </tr>\n    <tr>\n      <th rowspan=\"5\" valign=\"top\">red</th>\n      <th>L</th>\n      <td>5419.00</td>\n    </tr>\n    <tr>\n      <th>M</th>\n      <td>11173.87</td>\n    </tr>\n    <tr>\n      <th>S</th>\n      <td>5419.00</td>\n    </tr>\n    <tr>\n      <th>XL</th>\n      <td>8035.00</td>\n    </tr>\n    <tr>\n      <th>XS</th>\n      <td>8035.00</td>\n    </tr>\n    <tr>\n      <th rowspan=\"3\" valign=\"top\">redblue</th>\n      <th>M</th>\n      <td>2761.00</td>\n    </tr>\n    <tr>\n      <th>S</th>\n      <td>2761.00</td>\n    </tr>\n    <tr>\n      <th>XS</th>\n      <td>2761.00</td>\n    </tr>\n    <tr>\n      <th rowspan=\"5\" valign=\"top\">see</th>\n      <th>L</th>\n      <td>2455.00</td>\n    </tr>\n    <tr>\n      <th>M</th>\n      <td>2455.00</td>\n    </tr>\n    <tr>\n      <th>S</th>\n      <td>2455.00</td>\n    </tr>\n    <tr>\n      <th>XL</th>\n      <td>1888.00</td>\n    </tr>\n    <tr>\n      <th>XS</th>\n      <td>2455.00</td>\n    </tr>\n    <tr>\n      <th rowspan=\"5\" valign=\"top\">white</th>\n      <th>L</th>\n      <td>14864.00</td>\n    </tr>\n    <tr>\n      <th>M</th>\n      <td>9225.00</td>\n    </tr>\n    <tr>\n      <th>S</th>\n      <td>18061.00</td>\n    </tr>\n    <tr>\n      <th>XL</th>\n      <td>10941.00</td>\n    </tr>\n    <tr>\n      <th>XS</th>\n      <td>13004.00</td>\n    </tr>\n  </tbody>\n</table>\n</div>"
     },
     "execution_count": 24,
     "metadata": {},
     "output_type": "execute_result"
    }
   ],
   "source": [
    "group = df2.groupby(['IP_PROP30', 'IP_PROP32']).sum()\n",
    "group"
   ],
   "metadata": {
    "collapsed": false,
    "pycharm": {
     "name": "#%%\n"
    }
   }
  },
  {
   "cell_type": "code",
   "execution_count": 25,
   "outputs": [
    {
     "data": {
      "text/plain": "total_price    3736.0\nName: (pink, XL), dtype: float64"
     },
     "execution_count": 25,
     "metadata": {},
     "output_type": "execute_result"
    }
   ],
   "source": [
    "group.loc[('pink', 'XL'),]"
   ],
   "metadata": {
    "collapsed": false,
    "pycharm": {
     "name": "#%%\n"
    }
   }
  },
  {
   "cell_type": "code",
   "execution_count": 25,
   "outputs": [],
   "source": [],
   "metadata": {
    "collapsed": false,
    "pycharm": {
     "name": "#%%\n"
    }
   }
  }
 ],
 "metadata": {
  "kernelspec": {
   "display_name": "Python 3",
   "language": "python",
   "name": "python3"
  },
  "language_info": {
   "codemirror_mode": {
    "name": "ipython",
    "version": 2
   },
   "file_extension": ".py",
   "mimetype": "text/x-python",
   "name": "python",
   "nbconvert_exporter": "python",
   "pygments_lexer": "ipython2",
   "version": "2.7.6"
  }
 },
 "nbformat": 4,
 "nbformat_minor": 0
}