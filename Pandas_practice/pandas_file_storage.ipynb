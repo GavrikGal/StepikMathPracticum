{
 "cells": [
  {
   "cell_type": "code",
   "execution_count": 4,
   "metadata": {
    "collapsed": true,
    "pycharm": {
     "name": "#%%\n"
    }
   },
   "outputs": [
    {
     "data": {
      "text/plain": "      ProjectID  CompanyID  FileSize\n0        753919     753918    732686\n1        726628     726615   2484373\n2        705607     703124        22\n3        705605     703124         4\n4        705605     703124   1030735\n...         ...        ...       ...\n1847     753919     753918     51551\n1848     749900     749892    106970\n1849     755110     755109    112834\n1850     741922     741921    138990\n1851     755110     755109   1072520\n\n[1852 rows x 3 columns]",
      "text/html": "<div>\n<style scoped>\n    .dataframe tbody tr th:only-of-type {\n        vertical-align: middle;\n    }\n\n    .dataframe tbody tr th {\n        vertical-align: top;\n    }\n\n    .dataframe thead th {\n        text-align: right;\n    }\n</style>\n<table border=\"1\" class=\"dataframe\">\n  <thead>\n    <tr style=\"text-align: right;\">\n      <th></th>\n      <th>ProjectID</th>\n      <th>CompanyID</th>\n      <th>FileSize</th>\n    </tr>\n  </thead>\n  <tbody>\n    <tr>\n      <th>0</th>\n      <td>753919</td>\n      <td>753918</td>\n      <td>732686</td>\n    </tr>\n    <tr>\n      <th>1</th>\n      <td>726628</td>\n      <td>726615</td>\n      <td>2484373</td>\n    </tr>\n    <tr>\n      <th>2</th>\n      <td>705607</td>\n      <td>703124</td>\n      <td>22</td>\n    </tr>\n    <tr>\n      <th>3</th>\n      <td>705605</td>\n      <td>703124</td>\n      <td>4</td>\n    </tr>\n    <tr>\n      <th>4</th>\n      <td>705605</td>\n      <td>703124</td>\n      <td>1030735</td>\n    </tr>\n    <tr>\n      <th>...</th>\n      <td>...</td>\n      <td>...</td>\n      <td>...</td>\n    </tr>\n    <tr>\n      <th>1847</th>\n      <td>753919</td>\n      <td>753918</td>\n      <td>51551</td>\n    </tr>\n    <tr>\n      <th>1848</th>\n      <td>749900</td>\n      <td>749892</td>\n      <td>106970</td>\n    </tr>\n    <tr>\n      <th>1849</th>\n      <td>755110</td>\n      <td>755109</td>\n      <td>112834</td>\n    </tr>\n    <tr>\n      <th>1850</th>\n      <td>741922</td>\n      <td>741921</td>\n      <td>138990</td>\n    </tr>\n    <tr>\n      <th>1851</th>\n      <td>755110</td>\n      <td>755109</td>\n      <td>1072520</td>\n    </tr>\n  </tbody>\n</table>\n<p>1852 rows × 3 columns</p>\n</div>"
     },
     "execution_count": 4,
     "metadata": {},
     "output_type": "execute_result"
    }
   ],
   "source": [
    "import pandas as pd\n",
    "\n",
    "df = pd.read_csv('dataset_file_storage.csv', sep=';', usecols=['CompanyID', 'FileSize', 'ProjectID'])\n",
    "df"
   ]
  },
  {
   "cell_type": "code",
   "execution_count": 12,
   "outputs": [
    {
     "data": {
      "text/plain": "FileSize    4.599767e+08\ndtype: float64"
     },
     "execution_count": 12,
     "metadata": {},
     "output_type": "execute_result"
    }
   ],
   "source": [
    "mean_file_size = df.groupby('ProjectID')[['FileSize']].sum().mean()\n",
    "mean_file_size"
   ],
   "metadata": {
    "collapsed": false,
    "pycharm": {
     "name": "#%%\n"
    }
   }
  },
  {
   "cell_type": "code",
   "execution_count": 21,
   "outputs": [
    {
     "data": {
      "text/plain": "    CompanyID  ProjectID    FileSize\n0      703124     705605  3950576179\n1      703124     705606   101217813\n2      703124     705607  1453545094\n3      719936     720089     1185673\n4      719936     721640   526480987\n5      721180     721181    16036453\n6      721180     724807   514145796\n7      721180     730163  1566905593\n8      721180     732966    49555199\n9      721180     741822  1524721856\n10     721180     750864   494872093\n11     721639     721640     1452010\n12     722863     722864   798388183\n13     722863     722865   524723720\n14     723317     723321  1048173650\n15     723317     736459    13009509\n16     723317     736460     6388197\n17     723317     736461    12115936\n18     723317     736462     8930650\n19     724043     724044   466545893\n20     724067     724068   108392045\n21     724937     724938  1581185110\n22     724937     724939   518593228\n23     724937     724940   986266922\n24     726615     726619  1012192132\n25     726615     726622    12029601\n26     726615     726623  1032759715\n27     726615     726628    25498526\n28     726615     754225   147064526\n29     726766     726767   167786914\n30     726779     726780   125474822\n31     727590     727591   395662429\n32     727604     727605    10274732\n33     728333     728336   597374336\n34     728355     728356    19184127\n35     729306     729307   508974825\n36     729353     730174    89744288\n37     729353     730175    37829007\n38     730505     730506    25930225\n39     733113     733114   186745352\n40     733113     733115     9140468\n41     733971     733972   132081981\n42     736662     736663  1569514179\n43     736979     736980    21938637\n44     738553     738554  1264143584\n45     741921     741922   764662481\n46     744106     744107    16071265\n47     745432     745433    67849523\n48     746114     746115    41116794\n49     746662     746664   135668170\n50     747291     747292     4731344\n51     747716     747717      631842\n52     748559     748560   637225512\n53     749892     749900   104538590\n54     753296     753297    11123251\n55     753918     753919   172475221\n56     755109     755110   137846341",
      "text/html": "<div>\n<style scoped>\n    .dataframe tbody tr th:only-of-type {\n        vertical-align: middle;\n    }\n\n    .dataframe tbody tr th {\n        vertical-align: top;\n    }\n\n    .dataframe thead th {\n        text-align: right;\n    }\n</style>\n<table border=\"1\" class=\"dataframe\">\n  <thead>\n    <tr style=\"text-align: right;\">\n      <th></th>\n      <th>CompanyID</th>\n      <th>ProjectID</th>\n      <th>FileSize</th>\n    </tr>\n  </thead>\n  <tbody>\n    <tr>\n      <th>0</th>\n      <td>703124</td>\n      <td>705605</td>\n      <td>3950576179</td>\n    </tr>\n    <tr>\n      <th>1</th>\n      <td>703124</td>\n      <td>705606</td>\n      <td>101217813</td>\n    </tr>\n    <tr>\n      <th>2</th>\n      <td>703124</td>\n      <td>705607</td>\n      <td>1453545094</td>\n    </tr>\n    <tr>\n      <th>3</th>\n      <td>719936</td>\n      <td>720089</td>\n      <td>1185673</td>\n    </tr>\n    <tr>\n      <th>4</th>\n      <td>719936</td>\n      <td>721640</td>\n      <td>526480987</td>\n    </tr>\n    <tr>\n      <th>5</th>\n      <td>721180</td>\n      <td>721181</td>\n      <td>16036453</td>\n    </tr>\n    <tr>\n      <th>6</th>\n      <td>721180</td>\n      <td>724807</td>\n      <td>514145796</td>\n    </tr>\n    <tr>\n      <th>7</th>\n      <td>721180</td>\n      <td>730163</td>\n      <td>1566905593</td>\n    </tr>\n    <tr>\n      <th>8</th>\n      <td>721180</td>\n      <td>732966</td>\n      <td>49555199</td>\n    </tr>\n    <tr>\n      <th>9</th>\n      <td>721180</td>\n      <td>741822</td>\n      <td>1524721856</td>\n    </tr>\n    <tr>\n      <th>10</th>\n      <td>721180</td>\n      <td>750864</td>\n      <td>494872093</td>\n    </tr>\n    <tr>\n      <th>11</th>\n      <td>721639</td>\n      <td>721640</td>\n      <td>1452010</td>\n    </tr>\n    <tr>\n      <th>12</th>\n      <td>722863</td>\n      <td>722864</td>\n      <td>798388183</td>\n    </tr>\n    <tr>\n      <th>13</th>\n      <td>722863</td>\n      <td>722865</td>\n      <td>524723720</td>\n    </tr>\n    <tr>\n      <th>14</th>\n      <td>723317</td>\n      <td>723321</td>\n      <td>1048173650</td>\n    </tr>\n    <tr>\n      <th>15</th>\n      <td>723317</td>\n      <td>736459</td>\n      <td>13009509</td>\n    </tr>\n    <tr>\n      <th>16</th>\n      <td>723317</td>\n      <td>736460</td>\n      <td>6388197</td>\n    </tr>\n    <tr>\n      <th>17</th>\n      <td>723317</td>\n      <td>736461</td>\n      <td>12115936</td>\n    </tr>\n    <tr>\n      <th>18</th>\n      <td>723317</td>\n      <td>736462</td>\n      <td>8930650</td>\n    </tr>\n    <tr>\n      <th>19</th>\n      <td>724043</td>\n      <td>724044</td>\n      <td>466545893</td>\n    </tr>\n    <tr>\n      <th>20</th>\n      <td>724067</td>\n      <td>724068</td>\n      <td>108392045</td>\n    </tr>\n    <tr>\n      <th>21</th>\n      <td>724937</td>\n      <td>724938</td>\n      <td>1581185110</td>\n    </tr>\n    <tr>\n      <th>22</th>\n      <td>724937</td>\n      <td>724939</td>\n      <td>518593228</td>\n    </tr>\n    <tr>\n      <th>23</th>\n      <td>724937</td>\n      <td>724940</td>\n      <td>986266922</td>\n    </tr>\n    <tr>\n      <th>24</th>\n      <td>726615</td>\n      <td>726619</td>\n      <td>1012192132</td>\n    </tr>\n    <tr>\n      <th>25</th>\n      <td>726615</td>\n      <td>726622</td>\n      <td>12029601</td>\n    </tr>\n    <tr>\n      <th>26</th>\n      <td>726615</td>\n      <td>726623</td>\n      <td>1032759715</td>\n    </tr>\n    <tr>\n      <th>27</th>\n      <td>726615</td>\n      <td>726628</td>\n      <td>25498526</td>\n    </tr>\n    <tr>\n      <th>28</th>\n      <td>726615</td>\n      <td>754225</td>\n      <td>147064526</td>\n    </tr>\n    <tr>\n      <th>29</th>\n      <td>726766</td>\n      <td>726767</td>\n      <td>167786914</td>\n    </tr>\n    <tr>\n      <th>30</th>\n      <td>726779</td>\n      <td>726780</td>\n      <td>125474822</td>\n    </tr>\n    <tr>\n      <th>31</th>\n      <td>727590</td>\n      <td>727591</td>\n      <td>395662429</td>\n    </tr>\n    <tr>\n      <th>32</th>\n      <td>727604</td>\n      <td>727605</td>\n      <td>10274732</td>\n    </tr>\n    <tr>\n      <th>33</th>\n      <td>728333</td>\n      <td>728336</td>\n      <td>597374336</td>\n    </tr>\n    <tr>\n      <th>34</th>\n      <td>728355</td>\n      <td>728356</td>\n      <td>19184127</td>\n    </tr>\n    <tr>\n      <th>35</th>\n      <td>729306</td>\n      <td>729307</td>\n      <td>508974825</td>\n    </tr>\n    <tr>\n      <th>36</th>\n      <td>729353</td>\n      <td>730174</td>\n      <td>89744288</td>\n    </tr>\n    <tr>\n      <th>37</th>\n      <td>729353</td>\n      <td>730175</td>\n      <td>37829007</td>\n    </tr>\n    <tr>\n      <th>38</th>\n      <td>730505</td>\n      <td>730506</td>\n      <td>25930225</td>\n    </tr>\n    <tr>\n      <th>39</th>\n      <td>733113</td>\n      <td>733114</td>\n      <td>186745352</td>\n    </tr>\n    <tr>\n      <th>40</th>\n      <td>733113</td>\n      <td>733115</td>\n      <td>9140468</td>\n    </tr>\n    <tr>\n      <th>41</th>\n      <td>733971</td>\n      <td>733972</td>\n      <td>132081981</td>\n    </tr>\n    <tr>\n      <th>42</th>\n      <td>736662</td>\n      <td>736663</td>\n      <td>1569514179</td>\n    </tr>\n    <tr>\n      <th>43</th>\n      <td>736979</td>\n      <td>736980</td>\n      <td>21938637</td>\n    </tr>\n    <tr>\n      <th>44</th>\n      <td>738553</td>\n      <td>738554</td>\n      <td>1264143584</td>\n    </tr>\n    <tr>\n      <th>45</th>\n      <td>741921</td>\n      <td>741922</td>\n      <td>764662481</td>\n    </tr>\n    <tr>\n      <th>46</th>\n      <td>744106</td>\n      <td>744107</td>\n      <td>16071265</td>\n    </tr>\n    <tr>\n      <th>47</th>\n      <td>745432</td>\n      <td>745433</td>\n      <td>67849523</td>\n    </tr>\n    <tr>\n      <th>48</th>\n      <td>746114</td>\n      <td>746115</td>\n      <td>41116794</td>\n    </tr>\n    <tr>\n      <th>49</th>\n      <td>746662</td>\n      <td>746664</td>\n      <td>135668170</td>\n    </tr>\n    <tr>\n      <th>50</th>\n      <td>747291</td>\n      <td>747292</td>\n      <td>4731344</td>\n    </tr>\n    <tr>\n      <th>51</th>\n      <td>747716</td>\n      <td>747717</td>\n      <td>631842</td>\n    </tr>\n    <tr>\n      <th>52</th>\n      <td>748559</td>\n      <td>748560</td>\n      <td>637225512</td>\n    </tr>\n    <tr>\n      <th>53</th>\n      <td>749892</td>\n      <td>749900</td>\n      <td>104538590</td>\n    </tr>\n    <tr>\n      <th>54</th>\n      <td>753296</td>\n      <td>753297</td>\n      <td>11123251</td>\n    </tr>\n    <tr>\n      <th>55</th>\n      <td>753918</td>\n      <td>753919</td>\n      <td>172475221</td>\n    </tr>\n    <tr>\n      <th>56</th>\n      <td>755109</td>\n      <td>755110</td>\n      <td>137846341</td>\n    </tr>\n  </tbody>\n</table>\n</div>"
     },
     "execution_count": 21,
     "metadata": {},
     "output_type": "execute_result"
    }
   ],
   "source": [
    "grouped_company = df.groupby(['CompanyID', 'ProjectID'], as_index=False).sum()\n",
    "grouped_company"
   ],
   "metadata": {
    "collapsed": false,
    "pycharm": {
     "name": "#%%\n"
    }
   }
  },
  {
   "cell_type": "code",
   "execution_count": 22,
   "outputs": [
    {
     "data": {
      "text/plain": "0      True\n1     False\n2      True\n3     False\n4      True\n5     False\n6      True\n7      True\n8     False\n9      True\n10     True\n11    False\n12     True\n13     True\n14     True\n15    False\n16    False\n17    False\n18    False\n19     True\n20    False\n21     True\n22     True\n23     True\n24     True\n25    False\n26     True\n27    False\n28    False\n29    False\n30    False\n31    False\n32    False\n33     True\n34    False\n35     True\n36    False\n37    False\n38    False\n39    False\n40    False\n41    False\n42     True\n43    False\n44     True\n45     True\n46    False\n47    False\n48    False\n49    False\n50    False\n51    False\n52     True\n53    False\n54    False\n55    False\n56    False\nName: FileSize, dtype: bool"
     },
     "execution_count": 22,
     "metadata": {},
     "output_type": "execute_result"
    }
   ],
   "source": [
    "grouped_company['FileSize'] > mean_file_size.iloc[0]"
   ],
   "metadata": {
    "collapsed": false,
    "pycharm": {
     "name": "#%%\n"
    }
   }
  },
  {
   "cell_type": "code",
   "execution_count": 28,
   "outputs": [
    {
     "data": {
      "text/plain": "14"
     },
     "execution_count": 28,
     "metadata": {},
     "output_type": "execute_result"
    }
   ],
   "source": [
    "len(grouped_company[grouped_company['FileSize'] > mean_file_size.iloc[0]]['CompanyID'].unique())"
   ],
   "metadata": {
    "collapsed": false,
    "pycharm": {
     "name": "#%%\n"
    }
   }
  },
  {
   "cell_type": "code",
   "execution_count": null,
   "outputs": [],
   "source": [],
   "metadata": {
    "collapsed": false,
    "pycharm": {
     "name": "#%%\n",
     "is_executing": true
    }
   }
  },
  {
   "cell_type": "code",
   "execution_count": 23,
   "outputs": [],
   "source": [],
   "metadata": {
    "collapsed": false,
    "pycharm": {
     "name": "#%%\n"
    }
   }
  }
 ],
 "metadata": {
  "kernelspec": {
   "display_name": "Python 3",
   "language": "python",
   "name": "python3"
  },
  "language_info": {
   "codemirror_mode": {
    "name": "ipython",
    "version": 2
   },
   "file_extension": ".py",
   "mimetype": "text/x-python",
   "name": "python",
   "nbconvert_exporter": "python",
   "pygments_lexer": "ipython2",
   "version": "2.7.6"
  }
 },
 "nbformat": 4,
 "nbformat_minor": 0
}